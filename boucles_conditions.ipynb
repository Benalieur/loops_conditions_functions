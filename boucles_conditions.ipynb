{
 "cells": [
  {
   "cell_type": "markdown",
   "metadata": {},
   "source": [
    "# **Les conditions et les boucles**"
   ]
  },
  {
   "cell_type": "markdown",
   "metadata": {},
   "source": [
    "## ***Les conditions***"
   ]
  },
  {
   "cell_type": "markdown",
   "metadata": {},
   "source": [
    "En python les conditions servent à activer ou non des blocs d'instructions en fonction de la valeur qui suit.\n",
    "\n",
    "Nous avons alors 3 types de conditions:\n",
    "- `if`      (Si)\n",
    "- `elif`    (Sinon Si)\n",
    "- `else`    (Sinon)\n",
    "\n",
    "Dès qu'une des conditions est vérifiée, les instructions associées sont exécutées et le programme sort de la condition. Ce qui est indenté est considéré comme faisant partie du bloc d'instructions."
   ]
  },
  {
   "cell_type": "markdown",
   "metadata": {},
   "source": [
    "#### 1. **La condition `if`**"
   ]
  },
  {
   "cell_type": "code",
   "execution_count": null,
   "metadata": {},
   "outputs": [],
   "source": [
    "if True:\n",
    "    print('The condition passed')"
   ]
  },
  {
   "cell_type": "code",
   "execution_count": 3,
   "metadata": {},
   "outputs": [],
   "source": [
    "if False:\n",
    "    print('The condition not passed')"
   ]
  },
  {
   "cell_type": "code",
   "execution_count": null,
   "metadata": {},
   "outputs": [],
   "source": [
    "age = 18\n",
    "\n",
    "if age >= 18:\n",
    "    print(\"You are an adult\")"
   ]
  },
  {
   "cell_type": "code",
   "execution_count": 5,
   "metadata": {},
   "outputs": [],
   "source": [
    "if 0 :\n",
    "    print('The condition not passed')"
   ]
  },
  {
   "cell_type": "code",
   "execution_count": null,
   "metadata": {},
   "outputs": [],
   "source": [
    "0 == False"
   ]
  },
  {
   "cell_type": "code",
   "execution_count": null,
   "metadata": {},
   "outputs": [],
   "source": [
    "if 1:\n",
    "    print('The condition passed')"
   ]
  },
  {
   "cell_type": "code",
   "execution_count": null,
   "metadata": {},
   "outputs": [],
   "source": [
    "1 == True"
   ]
  },
  {
   "cell_type": "code",
   "execution_count": null,
   "metadata": {},
   "outputs": [],
   "source": [
    "if '0':\n",
    "    print('The condition passed')"
   ]
  },
  {
   "cell_type": "code",
   "execution_count": 10,
   "metadata": {},
   "outputs": [],
   "source": [
    "if None:\n",
    "    print('The condition passed')"
   ]
  },
  {
   "cell_type": "code",
   "execution_count": null,
   "metadata": {},
   "outputs": [],
   "source": [
    "if 1 == True:\n",
    "    print('The condition passed')"
   ]
  },
  {
   "cell_type": "code",
   "execution_count": 12,
   "metadata": {},
   "outputs": [],
   "source": [
    "age_list = [12, 20, 25, 30]\n",
    "\n",
    "if 18 in age_list:\n",
    "    print(\"This age is in the list\")"
   ]
  },
  {
   "cell_type": "code",
   "execution_count": null,
   "metadata": {},
   "outputs": [],
   "source": [
    "age_list = [18, 20, 25, 30]\n",
    "\n",
    "if 18 in age_list:\n",
    "    print(\"This age is in the list\")\n",
    "\n",
    "if 20 in age_list:\n",
    "    print(\"This second age is in the list\")"
   ]
  },
  {
   "cell_type": "markdown",
   "metadata": {},
   "source": [
    "##### **Explications supplémentaires sur la condition if**"
   ]
  },
  {
   "cell_type": "markdown",
   "metadata": {},
   "source": [
    "En Python, la notion de \"vrai\" (*truthy*) ou \"faux\" (*falsy*) s'applique à certains types de valeurs et objets, ce qui permet de les utiliser dans des conditions logiques comme dans les exemples précédents.\n",
    "\n",
    "Voici les règles générales pour savoir si une valeur est évaluée comme vraie ou fausse dans une condition :\n",
    "\n",
    "##### Sont considérés comme **faux** (`False`, *falsy*) :\n",
    "1. **Le booléen `False`**.\n",
    "2. **Le nombre `0`**, que ce soit un entier (`0`), un flottant (`0.0`), ou encore un nombre complexe (`0j`).\n",
    "3. **Les collections vides** : \n",
    "   - Chaînes de caractères vides (`\"\"`)\n",
    "   - Listes vides (`[]`)\n",
    "   - Tuples vides (`()`)\n",
    "   - Dictionnaires vides (`{}`)\n",
    "   - Ensembles vides (`set()`)\n",
    "4. **La valeur `None`**.\n",
    "5. **Les objets définis avec une méthode spéciale `__bool__()` ou `__len__()` qui renvoient `False` ou `0`**.\n",
    "\n",
    "##### Sont considérés comme **vrais** (`True`, *truthy*) :\n",
    "1. **Le booléen `True`**.\n",
    "2. **Tous les nombres non-nuls** :\n",
    "   - Entiers (`1`, `-1`, etc.)\n",
    "   - Flottants (`0.1`, `-2.5`, etc.)\n",
    "   - Nombres complexes non nuls.\n",
    "3. **Toutes les collections non vides** :\n",
    "   - Chaînes de caractères non vides (`\"hello\"`, `\"0\"`, etc.)\n",
    "   - Listes non vides (`[1, 2]`)\n",
    "   - Tuples non vides (`(1,)`)\n",
    "   - Dictionnaires non vides (`{\"a\": 1}`)\n",
    "   - Ensembles non vides (`{1, 2}`)\n",
    "4. **Tout objet** dont la méthode `__bool__()` ou `__len__()` renvoie respectivement `True` ou une valeur non nulle."
   ]
  },
  {
   "cell_type": "markdown",
   "metadata": {},
   "source": [
    "#### 2. **La condition `elif`**"
   ]
  },
  {
   "cell_type": "markdown",
   "metadata": {},
   "source": [
    "`elif` signifie \"sinon si\". Il permet d'ajouter une condition supplémentaire à la suite d'un `if`. Si la condition du `if` est fausse, mais que celle du `elif` est vraie, le bloc associé sera exécuté."
   ]
  },
  {
   "cell_type": "code",
   "execution_count": null,
   "metadata": {},
   "outputs": [],
   "source": [
    "age = 17\n",
    "\n",
    "if age < 18:\n",
    "    print(\"You are a minor\")\n",
    "\n",
    "elif age >= 18:\n",
    "    print(\"You are an adult\")"
   ]
  },
  {
   "cell_type": "markdown",
   "metadata": {},
   "source": [
    "Si la condition `if` est fausse, Python passe au `elif` suivant, et ainsi de suite jusqu'à ce qu'une condition soit vérifiée ou qu'il atteigne le `else`."
   ]
  },
  {
   "cell_type": "code",
   "execution_count": null,
   "metadata": {},
   "outputs": [],
   "source": [
    "age = 19\n",
    "\n",
    "if age == None:\n",
    "    print(\"Age is not defined\")\n",
    "\n",
    "elif age < 18:\n",
    "    print(\"You are a minor\")\n",
    "\n",
    "elif age >= 18:\n",
    "    print(\"You are an adult\")"
   ]
  },
  {
   "cell_type": "code",
   "execution_count": null,
   "metadata": {},
   "outputs": [],
   "source": [
    "age_list = [18, 20, 25, 30]\n",
    "\n",
    "if 18 in age_list:\n",
    "    print(\"The first age is in the list\")\n",
    "\n",
    "elif 20 in age_list:\n",
    "    print(\"The second age is in the list\")"
   ]
  },
  {
   "cell_type": "code",
   "execution_count": null,
   "metadata": {},
   "outputs": [],
   "source": [
    "age_list = [12, 20, 25, 30]\n",
    "\n",
    "if 18 in age_list:\n",
    "    print(\"The first age is in the list\")\n",
    "\n",
    "elif 20 in age_list:\n",
    "    print(\"The second age is in the list\")"
   ]
  },
  {
   "cell_type": "markdown",
   "metadata": {},
   "source": [
    "#### 3. **La condition `else`**"
   ]
  },
  {
   "cell_type": "markdown",
   "metadata": {},
   "source": [
    "Le bloc `else` est exécuté si aucune des conditions précédentes n'est vérifiée."
   ]
  },
  {
   "cell_type": "code",
   "execution_count": null,
   "metadata": {},
   "outputs": [],
   "source": [
    "age = 18\n",
    "\n",
    "if age < 18:\n",
    "    print(\"You are a minor\")\n",
    "\n",
    "else:\n",
    "    print(\"You are an adult\")"
   ]
  },
  {
   "cell_type": "code",
   "execution_count": null,
   "metadata": {},
   "outputs": [],
   "source": [
    "age_list = [13, 21, 25, 30]\n",
    "\n",
    "if 18 in age_list:\n",
    "    print(\"This age is in the list\")\n",
    "\n",
    "elif 20 in age_list:\n",
    "    print(\"This second age is in the list\")\n",
    "\n",
    "else:\n",
    "    print(\"This age is not in the list\")"
   ]
  },
  {
   "cell_type": "code",
   "execution_count": null,
   "metadata": {},
   "outputs": [],
   "source": [
    "age_list = [13, 18, 21, 25, 30]\n",
    "\n",
    "if 18 in age_list:\n",
    "    print(\"This age is in the list\")\n",
    "\n",
    "if 20 in age_list:\n",
    "    print(\"This second age is in the list\")\n",
    "\n",
    "else:\n",
    "    print(\"This age is not in the list\")"
   ]
  },
  {
   "cell_type": "markdown",
   "metadata": {},
   "source": [
    "#### 4. **Les conditions imbriquées**"
   ]
  },
  {
   "cell_type": "markdown",
   "metadata": {},
   "source": [
    "Les conditions imbriquées en Python consistent à utiliser des blocs `if`, `elif` ou `else` à l'intérieur d'autres blocs conditionnels. Cela permet de créer des décisions plus complexes où chaque condition dépend de la vérification d'autres conditions à différents niveaux."
   ]
  },
  {
   "cell_type": "code",
   "execution_count": null,
   "metadata": {},
   "outputs": [],
   "source": [
    "age = 25\n",
    "is_employed = True\n",
    "\n",
    "if age >= 18:  # Première condition\n",
    "    print(\"You are an adult.\")\n",
    "    \n",
    "    if is_employed:  # Condition imbriquée dans la première\n",
    "        print(\"You are employed.\")\n",
    "    else:\n",
    "        print(\"You are not employed.\")\n",
    "else:\n",
    "    print(\"You are a minor.\")"
   ]
  },
  {
   "cell_type": "code",
   "execution_count": null,
   "metadata": {},
   "outputs": [],
   "source": [
    "age = 30\n",
    "is_student = False\n",
    "is_employed = True\n",
    "\n",
    "if age >= 18:  # Première vérification sur l'âge\n",
    "    print(\"You are an adult.\")\n",
    "    \n",
    "    if is_student:  # Deuxième vérification, si la personne est étudiante\n",
    "        print(\"You are a student.\")\n",
    "    else:\n",
    "        if is_employed:  # Vérification de l'emploi si la personne n'est pas étudiante\n",
    "            print(\"You are employed.\")\n",
    "        else:\n",
    "            print(\"You are neither a student nor employed.\")\n",
    "else:\n",
    "    print(\"You are a minor.\")"
   ]
  },
  {
   "cell_type": "markdown",
   "metadata": {},
   "source": [
    "Prenons un autre exemple où nous vérifions si certains âges sont présents dans une liste, tout en ajoutant des conditions imbriquées."
   ]
  },
  {
   "cell_type": "code",
   "execution_count": null,
   "metadata": {},
   "outputs": [],
   "source": [
    "age_list = [15, 18, 25, 40]\n",
    "age_to_check = 18\n",
    "\n",
    "if age_to_check in age_list:  # Première condition\n",
    "    print(f\"Age {age_to_check} is in the list.\")\n",
    "    \n",
    "    if age_to_check >= 18:  # Condition imbriquée\n",
    "        print(\"You are an adult.\")\n",
    "    else:\n",
    "        print(\"You are a minor.\")\n",
    "else:\n",
    "    print(f\"Age {age_to_check} is not in the list.\")"
   ]
  },
  {
   "cell_type": "markdown",
   "metadata": {},
   "source": [
    "##### **Avantages des conditions imbriquées**"
   ]
  },
  {
   "cell_type": "markdown",
   "metadata": {},
   "source": [
    "- Elles permettent de gérer des scénarios plus complexes, en faisant des vérifications supplémentaires dans des situations spécifiques.\n",
    "- Elles offrent une flexibilité accrue, car chaque condition peut ajouter de nouvelles vérifications pour affiner la logique du programme.\n",
    "\n",
    "Cependant, il est important de ne pas abuser des conditions imbriquées, car cela peut rendre le code difficile à lire et à maintenir. Il est souvent préférable de limiter la profondeur d'imbrication ou de refactoriser en utilisant des fonctions ou des opérateurs logiques."
   ]
  },
  {
   "cell_type": "markdown",
   "metadata": {},
   "source": [
    "## ***Les boucles***"
   ]
  },
  {
   "cell_type": "markdown",
   "metadata": {},
   "source": [
    "En python les boucles servent à répéter plusieurs fois les mêmes actions. Ainsi en itérant sur une séquence, une liste ou un ensemble d'instructions, on peut exécuter plusieurs fois les mêmes instructions.\n",
    "\n",
    "Il existe deux types de boucles en Python:\n",
    "- La boucle `for`\n",
    "- La boucle `while`"
   ]
  },
  {
   "cell_type": "markdown",
   "metadata": {},
   "source": [
    "### 1. **La boucle `for`**"
   ]
  },
  {
   "cell_type": "markdown",
   "metadata": {},
   "source": [
    "La boucle `for` permet de parcourir une séquence (comme une liste, un tuple, un dictionnaire, un ensemble ou une chaîne de caractères). Pour chaque élément de la séquence, le bloc d'instructions associé est exécuté."
   ]
  },
  {
   "cell_type": "code",
   "execution_count": null,
   "metadata": {},
   "outputs": [],
   "source": [
    "fruit_list = [\"apple\", \"banana\", \"cherry\", \"passion fruit\", \"kiwi\", \"mango\"]\n",
    "\n",
    "for fruit in fruit_list:\n",
    "    print(fruit)"
   ]
  },
  {
   "cell_type": "markdown",
   "metadata": {},
   "source": [
    "La fonction `range()` est souvent utilisée dans les boucles `for` pour générer une série de nombres."
   ]
  },
  {
   "cell_type": "code",
   "execution_count": null,
   "metadata": {},
   "outputs": [],
   "source": [
    "for i in range(5):\n",
    "    print(i)"
   ]
  },
  {
   "cell_type": "markdown",
   "metadata": {},
   "source": [
    "En Python, on peut parcourir les chaînes de caractères avec une boucle `for`."
   ]
  },
  {
   "cell_type": "code",
   "execution_count": null,
   "metadata": {},
   "outputs": [],
   "source": [
    "chain = 'Bonjour'\n",
    "\n",
    "for letter in chain:\n",
    "    print(letter)"
   ]
  },
  {
   "cell_type": "code",
   "execution_count": null,
   "metadata": {},
   "outputs": [],
   "source": [
    "var_a = 'hello'\n",
    "random_list = [0, 'aba', 4.85, 1, var_a]\n",
    "\n",
    "for item in random_list:\n",
    "    print(item, type(item))"
   ]
  },
  {
   "cell_type": "code",
   "execution_count": null,
   "metadata": {},
   "outputs": [],
   "source": [
    "for i in range(3):\n",
    "    print(fruit_list[i])"
   ]
  },
  {
   "cell_type": "code",
   "execution_count": null,
   "metadata": {},
   "outputs": [],
   "source": [
    "for i in range(2, 5):\n",
    "    print(fruit_list[i])"
   ]
  },
  {
   "cell_type": "markdown",
   "metadata": {},
   "source": [
    "Il également possible de combiner les listes et les conditions pour sortir d'une boucle en fonction d'une condition prédéfinie."
   ]
  },
  {
   "cell_type": "code",
   "execution_count": null,
   "metadata": {},
   "outputs": [],
   "source": [
    "for fruit in fruit_list:\n",
    "    print(fruit)\n",
    "    if fruit == \"banana\":\n",
    "        print(\"\\nBanana is in the list!\\n\")"
   ]
  },
  {
   "cell_type": "markdown",
   "metadata": {},
   "source": [
    "### 2. **La boucle `while`**"
   ]
  },
  {
   "cell_type": "markdown",
   "metadata": {},
   "source": [
    "La boucle `while` continue à s'exécuter tant qu'une condition est vraie. C'est utile pour des boucles dont le nombre d'itérations n'est pas prédéfini ou lors de boucle infinie (par exemple pour un serveur)."
   ]
  },
  {
   "cell_type": "code",
   "execution_count": null,
   "metadata": {},
   "outputs": [],
   "source": [
    "count = 0\n",
    "\n",
    "while count < 5:\n",
    "    print(\"The count is:\", count)\n",
    "    count += 1\n",
    "\n",
    "else:\n",
    "    print(\"Loop completed successfully!\")"
   ]
  },
  {
   "cell_type": "code",
   "execution_count": null,
   "metadata": {},
   "outputs": [],
   "source": [
    "int_list = [i for i in range(-20, 0)]\n",
    "print(int_list)"
   ]
  },
  {
   "cell_type": "code",
   "execution_count": null,
   "metadata": {},
   "outputs": [],
   "source": [
    "count = 0\n",
    "while count < 10:\n",
    "    print(count, int_list[count])\n",
    "    count += 1"
   ]
  },
  {
   "cell_type": "markdown",
   "metadata": {},
   "source": [
    "## ***Les instructions de contrôle de flux***"
   ]
  },
  {
   "cell_type": "markdown",
   "metadata": {},
   "source": [
    "En python il existe plusieurs instructions de contrôle de flux qui permettent de modifier le comportement des boucles et des conditions.\n",
    "\n",
    "- `pass` : Cette instruction ne fait rien. Elle est utilisée lors de la construction d'un bloc de code syntaxiquement valide mais sans la volonté d'exécuter des actions pour l'instant.\n",
    "\n",
    "- `break` : Cette instruction permet de sortir immédiatement de la boucle dans laquelle elle se trouve, interrompant ainsi l'exécution des itérations restantes.\n",
    "\n",
    "- `continue` : Cette instruction permet de passer directement à l'itération suivante de la boucle, en sautant le reste du code dans l'itération courante."
   ]
  },
  {
   "cell_type": "code",
   "execution_count": 34,
   "metadata": {},
   "outputs": [],
   "source": [
    "for i in range(10):\n",
    "    pass"
   ]
  },
  {
   "cell_type": "code",
   "execution_count": null,
   "metadata": {},
   "outputs": [],
   "source": [
    "for fruit in fruit_list:\n",
    "    print(fruit)\n",
    "    if fruit == \"banana\":\n",
    "        print(\"\\nBanana is in the list, stop the loop!\\n\")\n",
    "        break  # Sort de la boucle dès que \"banana\" est trouvé"
   ]
  },
  {
   "cell_type": "code",
   "execution_count": null,
   "metadata": {},
   "outputs": [],
   "source": [
    "for i in range(10):\n",
    "    if i % 2 == 0:\n",
    "        continue\n",
    "    print(i)"
   ]
  }
 ],
 "metadata": {
  "kernelspec": {
   "display_name": ".venv",
   "language": "python",
   "name": "python3"
  },
  "language_info": {
   "codemirror_mode": {
    "name": "ipython",
    "version": 3
   },
   "file_extension": ".py",
   "mimetype": "text/x-python",
   "name": "python",
   "nbconvert_exporter": "python",
   "pygments_lexer": "ipython3",
   "version": "3.12.3"
  }
 },
 "nbformat": 4,
 "nbformat_minor": 2
}

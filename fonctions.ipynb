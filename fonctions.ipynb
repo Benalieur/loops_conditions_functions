{
 "cells": [
  {
   "cell_type": "markdown",
   "metadata": {},
   "source": [
    "# **Les fonctions en Python**"
   ]
  },
  {
   "cell_type": "markdown",
   "metadata": {},
   "source": [
    "En Python, une fonction est un bloc de code réutilisable qui effectue une tâche spécifique. \n",
    "\n",
    "Les fonctions permettent d'organiser et de structurer le code, réduisant ainsi la redondance et améliorant la lisibilité. \n",
    "\n",
    "On peut diviser les fonctions en deux catégories principales : les fonctions intégrées (comme `print()`, `len()`, `sorted()`, etc.) et les fonctions définies par l'utilisateur."
   ]
  },
  {
   "cell_type": "markdown",
   "metadata": {},
   "source": [
    "## ***Définition d'une fonction***"
   ]
  },
  {
   "cell_type": "markdown",
   "metadata": {},
   "source": [
    "Une fonction est définie à l'aide du mot-clé `def`, suivi du nom de la fonction, d'une paire de parenthèses (qui peuvent contenir ou non des paramètres), et d'un deux-points. \n",
    "\n",
    "Le bloc d'instructions associé à la fonction est indenté."
   ]
  },
  {
   "cell_type": "markdown",
   "metadata": {},
   "source": [
    "### 1. **Fonction sans paramètres ni valeur de retour**"
   ]
  },
  {
   "cell_type": "markdown",
   "metadata": {},
   "source": [
    "Une fonction simple qui ne prend pas de paramètres et ne retourne rien s'écrit comme ceci :"
   ]
  },
  {
   "cell_type": "code",
   "execution_count": 34,
   "metadata": {},
   "outputs": [],
   "source": [
    "def saluer():\n",
    "    \n",
    "    print(\"Bonjour tout le monde!\")"
   ]
  },
  {
   "cell_type": "markdown",
   "metadata": {},
   "source": [
    "Pour appeler cette fonction on réutilise son nom suivi de parenthèses :"
   ]
  },
  {
   "cell_type": "code",
   "execution_count": null,
   "metadata": {},
   "outputs": [],
   "source": [
    "saluer()"
   ]
  },
  {
   "cell_type": "markdown",
   "metadata": {},
   "source": [
    "### 2. **Fonction avec paramètres**"
   ]
  },
  {
   "cell_type": "markdown",
   "metadata": {},
   "source": [
    "Les paramètres permettent de passer des informations à la fonction lors de son appel. Les paramètres sont définis entre les parenthèses et sont ensuite utilisés dans le bloc d'instructions de la fonction."
   ]
  },
  {
   "cell_type": "code",
   "execution_count": 36,
   "metadata": {},
   "outputs": [],
   "source": [
    "def saluer_personne(nom):\n",
    "\n",
    "    print(f\"Bonjour {nom} !\")"
   ]
  },
  {
   "cell_type": "code",
   "execution_count": null,
   "metadata": {},
   "outputs": [],
   "source": [
    "saluer_personne(\"Jérémy\")"
   ]
  },
  {
   "cell_type": "markdown",
   "metadata": {},
   "source": [
    "Il peut y avoir plusieurs paramètres séparés par des virgules."
   ]
  },
  {
   "cell_type": "code",
   "execution_count": 38,
   "metadata": {},
   "outputs": [],
   "source": [
    "def saluer_personne_avec_age(nom, age):\n",
    "    \n",
    "    print(f\"Bonjour {nom}. Tu as {age} ans !\")"
   ]
  },
  {
   "cell_type": "code",
   "execution_count": null,
   "metadata": {},
   "outputs": [],
   "source": [
    "saluer_personne_avec_age(\"Benjamin\", 33)"
   ]
  },
  {
   "cell_type": "markdown",
   "metadata": {},
   "source": [
    "### 3. **Fonction avec valeur retournée**"
   ]
  },
  {
   "cell_type": "markdown",
   "metadata": {},
   "source": [
    "Une fonction peut renvoyer une valeur à l'aide de l'instruction `return`. Cela permet de récupérer et de réutiliser le résultat du traitement effectué par la fonction."
   ]
  },
  {
   "cell_type": "code",
   "execution_count": 40,
   "metadata": {},
   "outputs": [],
   "source": [
    "def additionner(a, b):\n",
    "    \n",
    "    return a + b"
   ]
  },
  {
   "cell_type": "code",
   "execution_count": null,
   "metadata": {},
   "outputs": [],
   "source": [
    "resultat = additionner(3, 5)\n",
    "\n",
    "print(resultat)"
   ]
  },
  {
   "cell_type": "markdown",
   "metadata": {},
   "source": [
    "Lorsque `return` est exécuté, la fonction s'arrête et renvoie la valeur si elle est spécifiée, le reste du code de la fonction n'est pas exécuté."
   ]
  },
  {
   "cell_type": "code",
   "execution_count": 42,
   "metadata": {},
   "outputs": [],
   "source": [
    "def test_return(n):\n",
    "    \n",
    "    print(f\"affiche return et le nombre : {n}\")\n",
    "    \n",
    "    return\n",
    "    \n",
    "    print(f\"N'affiche jamais le nombre + 10 : {n+10}\")"
   ]
  },
  {
   "cell_type": "code",
   "execution_count": null,
   "metadata": {},
   "outputs": [],
   "source": [
    "for i in range(3):\n",
    "    \n",
    "    test_return(i)"
   ]
  },
  {
   "cell_type": "markdown",
   "metadata": {},
   "source": [
    "### 4. **Paramètres avec valeur par défaut**"
   ]
  },
  {
   "cell_type": "markdown",
   "metadata": {},
   "source": [
    "Il est également possible de définir des valeurs par défaut pour les paramètres. Ainsi si les arguments ne sont pas définis lors de l'appel, les valeurs par défaut seront utilisées."
   ]
  },
  {
   "cell_type": "code",
   "execution_count": 44,
   "metadata": {},
   "outputs": [],
   "source": [
    "def multiplier(a=2, b=5):\n",
    "    \n",
    "    return a * b"
   ]
  },
  {
   "cell_type": "code",
   "execution_count": null,
   "metadata": {},
   "outputs": [],
   "source": [
    "multiplier()"
   ]
  },
  {
   "cell_type": "code",
   "execution_count": null,
   "metadata": {},
   "outputs": [],
   "source": [
    "multiplier(10, 20)"
   ]
  },
  {
   "cell_type": "markdown",
   "metadata": {},
   "source": [
    "### 5. **Fonctions avec plusieurs valeurs de retour**"
   ]
  },
  {
   "cell_type": "markdown",
   "metadata": {},
   "source": [
    "Une fonction peut renvoyer plusieurs valeurs en les séparant par des virgules. Ces valeurs peuvent ensuite être stockées dans des variables distinctes."
   ]
  },
  {
   "cell_type": "code",
   "execution_count": 47,
   "metadata": {},
   "outputs": [],
   "source": [
    "def operations_arithmetiques(a, b):\n",
    "\n",
    "    somme = a + b\n",
    "    difference = a - b\n",
    "    produit = a * b\n",
    "\n",
    "    return somme, difference, produit"
   ]
  },
  {
   "cell_type": "code",
   "execution_count": null,
   "metadata": {},
   "outputs": [],
   "source": [
    "som, diff, prod = operations_arithmetiques(8, 2)\n",
    "\n",
    "print(f\"\"\"\n",
    "Voici la somme : {som}\n",
    "Voici la différence : {diff}\n",
    "Voici le produit : {prod}\n",
    "\"\"\")"
   ]
  },
  {
   "cell_type": "markdown",
   "metadata": {},
   "source": [
    "### 6. **Fonctions lambda**"
   ]
  },
  {
   "cell_type": "markdown",
   "metadata": {},
   "source": [
    "En Python, il est possible de définir des fonctions anonymes, c'est-à-dire sans nom, à l'aide du mot-clé `lambda`. Ces fonctions sont souvent utilisées pour des opérations simples et sont définies en une seule ligne comme des variables.\n",
    "\n",
    "#### Syntaxe de base d'une fonction lambda :\n",
    "```python\n",
    "lambda paramètres : expression\n",
    "```\n",
    "Les fonctions `lambda` peuvent avoir plusieurs paramètres, mais elles ne peuvent contenir qu'une seule expression, qui est évaluée et retournée. Elles sont souvent utilisées comme argument dans des fonctions telles que `map()`, `filter()`, ou `sorted()`.\n"
   ]
  },
  {
   "cell_type": "markdown",
   "metadata": {},
   "source": [
    "#### Exemple d'utilisation d'une fonction lambda :"
   ]
  },
  {
   "cell_type": "code",
   "execution_count": null,
   "metadata": {},
   "outputs": [],
   "source": [
    "addition = lambda x, y: x + y\n",
    "\n",
    "print(addition(5, 3))"
   ]
  },
  {
   "cell_type": "code",
   "execution_count": null,
   "metadata": {},
   "outputs": [],
   "source": [
    "multiplier_par_5 = lambda x: x * 5\n",
    "\n",
    "print(multiplier_par_5(addition(4, 3)))"
   ]
  },
  {
   "cell_type": "markdown",
   "metadata": {},
   "source": [
    "#### Utilisation avec `map()` :"
   ]
  },
  {
   "cell_type": "markdown",
   "metadata": {},
   "source": [
    "La fonction `map()` applique une fonction donnée à tous les éléments d'un itérable (liste, tuple, etc.) et renvoie un objet map qui peut être converti en liste, tuple, etc."
   ]
  },
  {
   "cell_type": "code",
   "execution_count": null,
   "metadata": {},
   "outputs": [],
   "source": [
    "nombres = [1, 2, 3, 4, 5]\n",
    "\n",
    "carres = list(map(lambda x: x ** 2, nombres))\n",
    "\n",
    "print(carres)"
   ]
  },
  {
   "cell_type": "markdown",
   "metadata": {},
   "source": [
    "#### Utilisation avec `filter()` :"
   ]
  },
  {
   "cell_type": "markdown",
   "metadata": {},
   "source": [
    "La fonction `filter()` crée un objet filtre qui filtre les éléments d'un itérable en fonction d'une fonction donnée."
   ]
  },
  {
   "cell_type": "code",
   "execution_count": null,
   "metadata": {},
   "outputs": [],
   "source": [
    "nombres = [1, 2, 3, 4, 5, 6]\n",
    "pairs = list(filter(lambda x: x % 2 == 0, nombres))\n",
    "print(pairs)"
   ]
  },
  {
   "cell_type": "markdown",
   "metadata": {},
   "source": [
    "### 7. **Les fonctions imbriquées**"
   ]
  },
  {
   "cell_type": "markdown",
   "metadata": {},
   "source": [
    "Il est possible de définir des fonctions à l'intérieur d'autres fonctions en Python. Ces fonctions sont appelées **fonctions imbriquées**.\n",
    "\n",
    "Les fonctions imbriquées sont souvent utilisées pour scinder des tâches complexes en sous-tâches plus simples, ou pour encapsuler des fonctionnalités spécifiques qui ne doivent être accessibles que depuis l'intérieur d'une autre fonction.\n"
   ]
  },
  {
   "cell_type": "code",
   "execution_count": 53,
   "metadata": {},
   "outputs": [],
   "source": [
    "def exterieur():\n",
    "    \n",
    "    def interieur(nombre):\n",
    "        print(f\"Je suis à l'intérieur de la fonction extérieure. Numéro {nombre}\")\n",
    "    \n",
    "    for i in range(5):\n",
    "        interieur(i)"
   ]
  },
  {
   "cell_type": "code",
   "execution_count": null,
   "metadata": {},
   "outputs": [],
   "source": [
    "exterieur()"
   ]
  },
  {
   "cell_type": "markdown",
   "metadata": {},
   "source": [
    "### 8. **Les fonctions récursives**"
   ]
  },
  {
   "cell_type": "markdown",
   "metadata": {},
   "source": [
    "Une fonction **récursive** est une fonction qui s'appelle elle-même afin de résoudre un problème en le décomposant en sous-problèmes plus petits. La récursivité doit toujours inclure une condition d'arrêt pour éviter des appels infinis."
   ]
  },
  {
   "cell_type": "code",
   "execution_count": null,
   "metadata": {},
   "outputs": [],
   "source": [
    "def factorielle(n):\n",
    "    \n",
    "    if n == 0:\n",
    "        return 1\n",
    "    \n",
    "    return n * factorielle(n - 1)\n",
    "\n",
    "print(factorielle(5))"
   ]
  },
  {
   "cell_type": "markdown",
   "metadata": {},
   "source": [
    "#### **Pour mieux comprendre le fonctionnement des fonctions récursives, prenons l'exemple de la fonction factorielle(5) :**"
   ]
  },
  {
   "cell_type": "markdown",
   "metadata": {},
   "source": [
    "\n",
    "Lorsqu'une fonction récursive comme `factorielle` s'appelle elle-même, elle garde en mémoire chaque appel de fonction non résolu dans une **pile d'appels** (*call stack*). Chaque fois que la fonction est appelée, Python empile cet appel dans la pile, puis passe à l'appel suivant jusqu'à ce que la condition d'arrêt soit atteinte.\n",
    "\n",
    "Dans le cas de `factorielle`, la fonction s'appelle à plusieurs reprises avec une valeur de `n` décroissante. Chaque appel attend que l'appel suivant termine et renvoie une valeur avant de poursuivre son propre calcul.\n",
    "\n",
    "Voici un aperçu de ce qui se passe avec `factorielle(5)` :\n",
    "\n",
    "1. **Appel 1 : `factorielle(5)`**  \n",
    "   - Appelle `factorielle(4)`, attend le résultat.\n",
    "\n",
    "2. **Appel 2 : `factorielle(4)`**  \n",
    "   - Appelle `factorielle(3)`, attend le résultat.\n",
    "\n",
    "3. **Appel 3 : `factorielle(3)`**  \n",
    "   - Appelle `factorielle(2)`, attend le résultat.\n",
    "\n",
    "4. **Appel 4 : `factorielle(2)`**  \n",
    "   - Appelle `factorielle(1)`, attend le résultat.\n",
    "\n",
    "5. **Appel 5 : `factorielle(1)`**  \n",
    "   - Appelle `factorielle(0)`, attend le résultat.\n",
    "\n",
    "6. **Appel 6 : `factorielle(0)`**  \n",
    "   - Retourne 1 (condition d'arrêt atteinte).\n",
    "\n",
    "Ensuite, la pile d'appels commence à se désempiler, chaque appel précédent résolvant son propre calcul une fois qu'il a le résultat de l'appel suivant :\n",
    "\n",
    "7. **Retour à l'appel 5 : `factorielle(1)`**  \n",
    "   - Renvoie `1 * 1 = 1`.\n",
    "\n",
    "8. **Retour à l'appel 4 : `factorielle(2)`**  \n",
    "   - Renvoie `2 * 1 = 2`.\n",
    "\n",
    "9. **Retour à l'appel 3 : `factorielle(3)`**  \n",
    "   - Renvoie `3 * 2 = 6`.\n",
    "\n",
    "10. **Retour à l'appel 2 : `factorielle(4)`**  \n",
    "    - Renvoie `4 * 6 = 24`.\n",
    "\n",
    "11. **Retour à l'appel 1 : `factorielle(5)`**  \n",
    "    - Renvoie `5 * 24 = 120`.\n",
    "\n",
    "Chaque appel stocke temporairement la valeur de `n` et attend que l'appel suivant renvoie un résultat. Une fois que la condition d'arrêt est atteinte et que la valeur est renvoyée, la pile d'appels se désempile, permettant à chaque fonction de compléter son calcul jusqu'au résultat final."
   ]
  },
  {
   "cell_type": "markdown",
   "metadata": {},
   "source": [
    "### 9. **Les fonctions d'ordre supérieur**"
   ]
  },
  {
   "cell_type": "markdown",
   "metadata": {},
   "source": [
    "Une **fonction d'ordre supérieur** est une fonction qui prend une autre fonction en paramètre ou retourne une fonction.\n"
   ]
  },
  {
   "cell_type": "code",
   "execution_count": null,
   "metadata": {},
   "outputs": [],
   "source": [
    "def appliquer_fonction(fonction, valeur):\n",
    "    \n",
    "    return fonction(valeur)\n",
    "\n",
    "def carre(x):\n",
    "    \n",
    "    return x ** 2\n",
    "\n",
    "print(appliquer_fonction(carre, 4))"
   ]
  },
  {
   "cell_type": "markdown",
   "metadata": {},
   "source": [
    "### 10. **Les décorateurs**"
   ]
  },
  {
   "cell_type": "markdown",
   "metadata": {},
   "source": [
    "Les **décorateurs** sont une manière puissante et flexible de modifier le comportement d'une fonction ou d'une méthode sans en changer le code source. Un décorateur est une fonction qui prend une fonction en entrée et retourne une nouvelle fonction avec un comportement modifié.\n"
   ]
  },
  {
   "cell_type": "code",
   "execution_count": 57,
   "metadata": {},
   "outputs": [],
   "source": [
    "def decorateur_salon(fonction):\n",
    "    \n",
    "    def fonction_modifiee():\n",
    "\n",
    "        print(\"Bienvenue au salon !\")\n",
    "        fonction()\n",
    "        print(\"Merci d'être venu !\")\n",
    "\n",
    "    return fonction_modifiee"
   ]
  },
  {
   "cell_type": "code",
   "execution_count": 58,
   "metadata": {},
   "outputs": [],
   "source": [
    "@decorateur_salon\n",
    "def se_faire_coiffer():\n",
    "    print(\"Vous vous faites coiffer.\")"
   ]
  },
  {
   "cell_type": "code",
   "execution_count": null,
   "metadata": {},
   "outputs": [],
   "source": [
    "se_faire_coiffer()"
   ]
  },
  {
   "cell_type": "markdown",
   "metadata": {},
   "source": [
    "### 11. **Les fonctions génératrices**"
   ]
  },
  {
   "cell_type": "markdown",
   "metadata": {},
   "source": [
    "Les **générateurs** sont un type spécial de fonction qui permet de produire une séquence de valeurs sur laquelle on peut itérer, tout en conservant leur état entre chaque appel. \n",
    "\n",
    "Les générateurs sont définis avec `yield` qui permet de continuer l'éxécution au lieu de `return` qui stoppe la fonction."
   ]
  },
  {
   "cell_type": "code",
   "execution_count": 60,
   "metadata": {},
   "outputs": [],
   "source": [
    "def generateur_de_nombres(max):\n",
    "    \n",
    "    compteur = 0\n",
    "    \n",
    "    while compteur < max:\n",
    "        yield compteur\n",
    "        compteur += 1"
   ]
  },
  {
   "cell_type": "code",
   "execution_count": null,
   "metadata": {},
   "outputs": [],
   "source": [
    "for nombre in generateur_de_nombres(5):\n",
    "    \n",
    "    print(nombre)"
   ]
  },
  {
   "cell_type": "code",
   "execution_count": null,
   "metadata": {},
   "outputs": [],
   "source": [
    "type(generateur_de_nombres(5))"
   ]
  },
  {
   "cell_type": "markdown",
   "metadata": {},
   "source": [
    "La sortie du générateur dépend de la manière dont il est utilisé. L'argument de `yield` est renvoyé à chaque itération, et l'état de la fonction est conservé jusqu'à la prochaine itération."
   ]
  },
  {
   "cell_type": "code",
   "execution_count": 63,
   "metadata": {},
   "outputs": [],
   "source": [
    "def generateur_infini():\n",
    "    n = 0\n",
    "    while True:\n",
    "        yield n\n",
    "        n += 1"
   ]
  },
  {
   "cell_type": "code",
   "execution_count": 64,
   "metadata": {},
   "outputs": [],
   "source": [
    "gen = generateur_infini()"
   ]
  },
  {
   "cell_type": "markdown",
   "metadata": {},
   "source": [
    "La fonction `next()` est utilisée pour obtenir la valeur suivante du générateur."
   ]
  },
  {
   "cell_type": "code",
   "execution_count": null,
   "metadata": {},
   "outputs": [],
   "source": [
    "print(next(gen))"
   ]
  },
  {
   "cell_type": "markdown",
   "metadata": {},
   "source": [
    "## ***La portée des variables en Python***"
   ]
  },
  {
   "cell_type": "markdown",
   "metadata": {},
   "source": [
    "En Python, la **portée d'une variable** (ou *scope*) détermine où cette variable est accessible et utilisable dans le code. \n",
    "\n",
    "Il existe deux principales portées : la portée **globale** et la portée **locale**."
   ]
  },
  {
   "cell_type": "markdown",
   "metadata": {},
   "source": [
    "### 1. **Portée locale**"
   ]
  },
  {
   "cell_type": "markdown",
   "metadata": {},
   "source": [
    "Une variable définie à l'intérieur d'une fonction a une **portée locale**, ce qui signifie qu'elle n'est accessible qu'à l'intérieur de cette fonction. Elle n'existe pas en dehors de la fonction.\n",
    "\n",
    "Dans cet exemple, la variable `message` est **locale** à la fonction `saluer()` et n'est pas accessible à l'extérieur de celle-ci."
   ]
  },
  {
   "cell_type": "code",
   "execution_count": null,
   "metadata": {},
   "outputs": [],
   "source": [
    "def saluer():\n",
    "    message = \"Bonjour tout le monde !\"  # Variable locale\n",
    "    print(message)\n",
    "\n",
    "saluer()\n",
    "print(message)  # Erreur : la variable 'message' n'est pas définie"
   ]
  },
  {
   "cell_type": "markdown",
   "metadata": {},
   "source": [
    "### 2. **Portée globale**"
   ]
  },
  {
   "cell_type": "markdown",
   "metadata": {},
   "source": [
    "Une variable définie en dehors de toute fonction ou bloc de code a une **portée globale**. \n",
    "Elle est accessible partout dans le programme, y compris à l'intérieur des fonctions (sauf si une variable locale du même nom est créée).\n",
    "\n",
    "Dans cet exemple, `message_global` est accessible à la fois dans la fonction `saluer()` et à l'extérieur de celle-ci car elle a une **portée globale**."
   ]
  },
  {
   "cell_type": "code",
   "execution_count": null,
   "metadata": {},
   "outputs": [],
   "source": [
    "message_global = \"Salut tout le monde\"  # Variable globale\n",
    "\n",
    "def saluer():\n",
    "    print(message_global)\n",
    "\n",
    "saluer()\n",
    "print(message_global)  # Aucune erreur car la variable est globale"
   ]
  },
  {
   "cell_type": "markdown",
   "metadata": {},
   "source": [
    "Notons que même si nous définissons une variable locale du même nom qu'une variable globale à l'intérieur d'une fonction, la variable locale aura la priorité dans la fonction mais n'écrasera pas la variable globale en dehors de la fonction."
   ]
  },
  {
   "cell_type": "code",
   "execution_count": null,
   "metadata": {},
   "outputs": [],
   "source": [
    "message = \"Encore bonjour tout le monde !\"\n",
    "\n",
    "def saluer_encore():\n",
    "    message = \"Cette fois c'est salut tout le monde !\"\n",
    "    print(message)\n",
    "\n",
    "saluer_encore()\n",
    "print(message)  # Aucune erreur car la variable est globale"
   ]
  },
  {
   "cell_type": "markdown",
   "metadata": {},
   "source": [
    "### 3. **Le mot-clé `global`**"
   ]
  },
  {
   "cell_type": "markdown",
   "metadata": {},
   "source": [
    "Bien que peu recommendé, il est tout à fait possible de modifier une variable **globale** à l'intérieur d'une fonction, il faudra alors utiliser le mot-clé `global`. \n",
    "\n",
    "Sans ce mot-clé, Python créera une nouvelle variable **locale** avec le même nom, laissant la variable globale inchangée comme vu précédemment."
   ]
  },
  {
   "cell_type": "code",
   "execution_count": null,
   "metadata": {},
   "outputs": [],
   "source": [
    "compteur = 0  # Variable globale\n",
    "\n",
    "def incrementer():\n",
    "    global compteur  # Indique que nous modifions la variable globale\n",
    "    compteur += 1\n",
    "\n",
    "for _ in range(5):\n",
    "    incrementer()\n",
    "    print(compteur)"
   ]
  },
  {
   "cell_type": "markdown",
   "metadata": {},
   "source": [
    "### 4. **Le mot-clé `nonlocal`**"
   ]
  },
  {
   "cell_type": "markdown",
   "metadata": {},
   "source": [
    "Le mot-clé `nonlocal` est utilisé pour accéder et modifier une variable dans une fonction **imbriquée** (fonction à l'intérieur d'une autre fonction). Il permet de modifier une variable qui n'est ni locale à la fonction imbriquée ni globale.\n",
    "Dans cet exemple, `nonlocal` permet à la fonction `interieur()` de modifier la variable `compteur` définie dans la fonction `exterieur()`.\n"
   ]
  },
  {
   "cell_type": "code",
   "execution_count": null,
   "metadata": {},
   "outputs": [],
   "source": [
    "def exterieur():\n",
    "    compteur = 0  # Variable de la fonction extérieure\n",
    "\n",
    "    def interieur():\n",
    "        nonlocal compteur  # Permet de modifier la variable 'compteur' de la fonction extérieure\n",
    "        compteur += 1\n",
    "        print(compteur)\n",
    "\n",
    "    interieur()\n",
    "    interieur()\n",
    "\n",
    "exterieur()"
   ]
  },
  {
   "cell_type": "markdown",
   "metadata": {},
   "source": [
    "### 5. **Résumé sur la portée des variables**\n",
    "- **Variable locale** : définie à l'intérieur d'une fonction, accessible uniquement dans cette fonction.\n",
    "- **Variable globale** : définie en dehors de toute fonction, accessible partout dans le code.\n",
    "- **`global`** : permet de modifier une variable globale depuis une fonction.\n",
    "- **`nonlocal`** : permet de modifier une variable définie dans une fonction englobante depuis une fonction imbriquée."
   ]
  },
  {
   "cell_type": "markdown",
   "metadata": {},
   "source": [
    "## ***Bonnes pratiques pour les fonctions en Python***"
   ]
  },
  {
   "cell_type": "markdown",
   "metadata": {},
   "source": [
    "En python, il est recommandé de respecter certaines conventions lors de la définition des fonctions :\n",
    "\n",
    "- Utiliser des noms de fonctions significatifs.\n",
    "- Utiliser des commentaires pour expliquer le but de la fonction au début de celle-ci, appelé `docstring`.\n",
    "- Respecter les conventions de nommage : en minuscules, avec des underscores pour séparer les mots, appelé `snake_case`.\n",
    "- Ajouter des étiquettes aux paramètres appelées `type hints` pour indiquer le type de données attendu.\n",
    "\n",
    "- Éviter d'utiliser des caractères spéciaux dans les noms de fonctions.\n",
    "- Éviter d'utiliser des noms de fonctions qui existent déjà dans Python (`print`, `map`, etc.).\n",
    "- Éviter d'utiliser des noms de variables globales dans les fonctions afin de ne pas les modifier accidentellement les variables globales.\n",
    "- Éviter de définir des fonctions trop longues, il est recommandé de les découper en plusieurs fonctions plus petites."
   ]
  },
  {
   "cell_type": "markdown",
   "metadata": {},
   "source": [
    "### 1. **Exemple de fonction avec docstring**"
   ]
  },
  {
   "cell_type": "markdown",
   "metadata": {},
   "source": [
    "Les `docstrings` sont des chaînes de caractères utilisées pour documenter les fonctions, les classes et les modules en Python. Elles sont placées juste après la définition de la fonction entre triple guillemets."
   ]
  },
  {
   "cell_type": "code",
   "execution_count": 67,
   "metadata": {},
   "outputs": [],
   "source": [
    "def remercier_personne(nom):\n",
    "    \"\"\"\n",
    "    Affiche un message de remerciement pour la personne dont le nom est fourni en argument.\n",
    "\n",
    "    [Args]\n",
    "    nom (str): Le nom de la personne à remercier.\n",
    "\n",
    "    \"\"\"\n",
    "    print(f\"Merci beaucoup, {nom} !\")"
   ]
  },
  {
   "cell_type": "code",
   "execution_count": null,
   "metadata": {},
   "outputs": [],
   "source": [
    "remercier_personne(\"Alice\")"
   ]
  },
  {
   "cell_type": "markdown",
   "metadata": {},
   "source": [
    "### 2. **Exemple de fonction avec `type hints`**"
   ]
  },
  {
   "cell_type": "markdown",
   "metadata": {},
   "source": [
    "Les `type hints` permettent d'indiquer le type de données attendu pour chaque paramètre. Cela permet de documenter le code et d'améliorer sa lisibilité."
   ]
  },
  {
   "cell_type": "code",
   "execution_count": 69,
   "metadata": {},
   "outputs": [],
   "source": [
    "def remercier_nom_age(nom : str, age : int):\n",
    "    \"\"\"\n",
    "    Affiche un message de remerciement pour la personne dont le nom et l'âge sont fournis en arguments.\n",
    "\n",
    "    [Args]\n",
    "    nom (str): Le nom de la personne à remercier.\n",
    "    age (int): L'âge de la personne à remercier.\n",
    "\n",
    "    \"\"\"\n",
    "\n",
    "    print(f\"Merci {nom}, âgé de {age} ans !\")"
   ]
  },
  {
   "cell_type": "code",
   "execution_count": null,
   "metadata": {},
   "outputs": [],
   "source": [
    "remercier_nom_age(\"Ahmed\", 45)"
   ]
  },
  {
   "cell_type": "markdown",
   "metadata": {},
   "source": [
    "Les `type hints` permettent également d'indiquer le type de données attendu pour la valeur de retour de la fonction."
   ]
  },
  {
   "cell_type": "code",
   "execution_count": 71,
   "metadata": {},
   "outputs": [],
   "source": [
    "def diviser(a: int, b: int) -> float:\n",
    "\n",
    "    if b == 0:\n",
    "        raise ValueError(\"Le diviseur 'b' ne peut pas être 0.\")\n",
    "    \n",
    "    return a / b"
   ]
  },
  {
   "cell_type": "code",
   "execution_count": null,
   "metadata": {},
   "outputs": [],
   "source": [
    "resultat = diviser(10, 2)\n",
    "\n",
    "print(resultat, type(resultat))"
   ]
  },
  {
   "cell_type": "markdown",
   "metadata": {},
   "source": [
    "Exemple d'une fonction parfaitement écrite en python moderne avec `docstring`, `type hints` et `valeur par défaut` pour les paramètres :"
   ]
  },
  {
   "cell_type": "code",
   "execution_count": 79,
   "metadata": {},
   "outputs": [],
   "source": [
    "def multiplier(a: int = 2, b: int = 5) -> int:\n",
    "    \"\"\"\n",
    "    Multiplie deux entiers et retourne le résultat sous forme d'entier.\n",
    "    Si aucun argument n'est fourni, les valeurs par défaut sont 2 et 5.\n",
    "\n",
    "    [Args]\n",
    "    a (int): Le premier entier.\n",
    "    b (int): Le deuxième entier.\n",
    "\n",
    "    [Returns]\n",
    "    int: Le résultat de la multiplication.\n",
    "    \"\"\"\n",
    "    \n",
    "    return a * b"
   ]
  },
  {
   "cell_type": "markdown",
   "metadata": {},
   "source": [
    "Lorsque je passe ma souris sur le nom de la fonction, tous les éléments de la signature de la fonction s'affichent, ce qui rend le code plus lisible et plus facile à comprendre."
   ]
  },
  {
   "cell_type": "code",
   "execution_count": null,
   "metadata": {},
   "outputs": [],
   "source": [
    "multiplier()"
   ]
  }
 ],
 "metadata": {
  "kernelspec": {
   "display_name": ".venv",
   "language": "python",
   "name": "python3"
  },
  "language_info": {
   "codemirror_mode": {
    "name": "ipython",
    "version": 3
   },
   "file_extension": ".py",
   "mimetype": "text/x-python",
   "name": "python",
   "nbconvert_exporter": "python",
   "pygments_lexer": "ipython3",
   "version": "3.12.3"
  }
 },
 "nbformat": 4,
 "nbformat_minor": 2
}

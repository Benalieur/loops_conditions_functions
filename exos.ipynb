{
 "cells": [
  {
   "cell_type": "markdown",
   "metadata": {},
   "source": [
    "# **Exercices Boucles et Conditions**"
   ]
  },
  {
   "cell_type": "markdown",
   "metadata": {},
   "source": [
    "## *1. Conditions simples*"
   ]
  },
  {
   "cell_type": "code",
   "execution_count": 1,
   "metadata": {},
   "outputs": [],
   "source": [
    "# 1. Écrire un programme qui vérifie si un nombre donné est supérieur à 10.\n",
    "\n",
    "n = 9\n",
    "\n",
    "if n > 10:\n",
    "    print('n is greater than 10')"
   ]
  },
  {
   "cell_type": "code",
   "execution_count": 2,
   "metadata": {},
   "outputs": [
    {
     "name": "stdout",
     "output_type": "stream",
     "text": [
      "n is negative\n"
     ]
    }
   ],
   "source": [
    "# 2. Vérifier si un nombre donné est positif, négatif ou nul.\n",
    "\n",
    "n = -1\n",
    "\n",
    "if n > 0:\n",
    "    print('n is positive')\n",
    "elif n == 0:\n",
    "    print('n is zero')\n",
    "else:\n",
    "    print('n is negative')"
   ]
  },
  {
   "cell_type": "code",
   "execution_count": 3,
   "metadata": {},
   "outputs": [
    {
     "name": "stdout",
     "output_type": "stream",
     "text": [
      "You are a minor\n"
     ]
    }
   ],
   "source": [
    "# 3. Créer un programme qui affiche \"Vous êtes mineur\" si l’âge est inférieur à 18.\n",
    "\n",
    "age = 17\n",
    "\n",
    "if age < 18:\n",
    "    print('You are a minor')"
   ]
  },
  {
   "cell_type": "code",
   "execution_count": 4,
   "metadata": {},
   "outputs": [
    {
     "name": "stdout",
     "output_type": "stream",
     "text": [
      "The word is empty\n"
     ]
    }
   ],
   "source": [
    "# 4. Écrire un programme qui vérifie si une chaîne de caractères est vide ou non.\n",
    "\n",
    "word = ''\n",
    "\n",
    "if word:\n",
    "    print('The word is not empty')\n",
    "else:\n",
    "    print('The word is empty')"
   ]
  },
  {
   "cell_type": "code",
   "execution_count": 5,
   "metadata": {},
   "outputs": [
    {
     "name": "stdout",
     "output_type": "stream",
     "text": [
      "n is odd\n"
     ]
    }
   ],
   "source": [
    "# 5. Vérifier si un nombre est pair ou impair.\n",
    "\n",
    "n = 3\n",
    "\n",
    "if n % 2 == 0:\n",
    "    print('n is even')\n",
    "else:\n",
    "    print('n is odd')"
   ]
  },
  {
   "cell_type": "code",
   "execution_count": 6,
   "metadata": {},
   "outputs": [
    {
     "name": "stdout",
     "output_type": "stream",
     "text": [
      "a=87 is greater than b=51\n"
     ]
    }
   ],
   "source": [
    "# 6. Écrire un programme qui compare deux nombres et affiche le plus grand.\n",
    "\n",
    "a = 87\n",
    "b = 51\n",
    "\n",
    "if a > b:\n",
    "    print(f'{a=} is greater than {b=}')\n",
    "else:\n",
    "    print(f'{b=} is greater than {a=}')"
   ]
  },
  {
   "cell_type": "code",
   "execution_count": 7,
   "metadata": {},
   "outputs": [
    {
     "name": "stdout",
     "output_type": "stream",
     "text": [
      "a is greater than b\n"
     ]
    }
   ],
   "source": [
    "print('a is greater than b') if a > b else print('b is greater than a')"
   ]
  },
  {
   "cell_type": "code",
   "execution_count": 8,
   "metadata": {},
   "outputs": [
    {
     "name": "stdout",
     "output_type": "stream",
     "text": [
      "The greatest number is 87\n"
     ]
    }
   ],
   "source": [
    "print('The greatest number is', max(a, b))"
   ]
  },
  {
   "cell_type": "code",
   "execution_count": 9,
   "metadata": {},
   "outputs": [
    {
     "name": "stdout",
     "output_type": "stream",
     "text": [
      "n=7 is not divisible by 3 or 5\n"
     ]
    }
   ],
   "source": [
    "# 7. Vérifier si un nombre est divisible par 3 ou par 5.\n",
    "\n",
    "n = 7\n",
    "\n",
    "if n % 3 == 0 or n % 5 == 0:\n",
    "    print(f'{n=} is divisible by 3 or 5')\n",
    "else:\n",
    "    print(f'{n=} is not divisible by 3 or 5')"
   ]
  },
  {
   "cell_type": "code",
   "execution_count": 10,
   "metadata": {},
   "outputs": [
    {
     "name": "stdout",
     "output_type": "stream",
     "text": [
      "n is not divisible by 3 or 5\n"
     ]
    }
   ],
   "source": [
    "print(f'{n=} is divisible by 3 or 5') if n % 3 == 0 or n % 5 == 0 else print('n is not divisible by 3 or 5')"
   ]
  },
  {
   "cell_type": "code",
   "execution_count": 11,
   "metadata": {},
   "outputs": [
    {
     "name": "stdout",
     "output_type": "stream",
     "text": [
      "Access granted\n"
     ]
    }
   ],
   "source": [
    "# 8. Demander à l'utilisateur un mot de passe et vérifier s'il correspond à \"admin\".\n",
    "\n",
    "pwd = str(input('Enter the password: '))\n",
    "\n",
    "if pwd == 'admin':\n",
    "    print('Access granted')\n",
    "else:\n",
    "    print('Access denied')"
   ]
  },
  {
   "cell_type": "code",
   "execution_count": 12,
   "metadata": {},
   "outputs": [
    {
     "name": "stdout",
     "output_type": "stream",
     "text": [
      "The character is a consonant\n"
     ]
    }
   ],
   "source": [
    "# 9. Créer un programme qui vérifie si une lettre est une voyelle ou une consonne.\n",
    "\n",
    "char = 'b'\n",
    "vowel_list = ['a', 'e', 'i', 'o', 'u']\n",
    "\n",
    "if char in vowel_list:\n",
    "    print('The character is a vowel')\n",
    "else:\n",
    "    print('The character is a consonant')"
   ]
  },
  {
   "cell_type": "code",
   "execution_count": 13,
   "metadata": {},
   "outputs": [
    {
     "name": "stdout",
     "output_type": "stream",
     "text": [
      "The list is not empty\n"
     ]
    }
   ],
   "source": [
    "# 10. Vérifier si une liste est vide ou non.\n",
    "\n",
    "word_list = ['cherry', 'date']\n",
    "\n",
    "if len(word_list) > 0:\n",
    "    print('The list is not empty')\n",
    "else:\n",
    "    print('The list is empty')"
   ]
  },
  {
   "cell_type": "markdown",
   "metadata": {},
   "source": [
    "## *2. Conditions imbriquées*"
   ]
  },
  {
   "cell_type": "code",
   "execution_count": 14,
   "metadata": {},
   "outputs": [
    {
     "name": "stdout",
     "output_type": "stream",
     "text": [
      "n is between 10 and 20\n"
     ]
    }
   ],
   "source": [
    "# 11. Écrire un programme qui vérifie si un nombre est compris entre 10 et 20.\n",
    "\n",
    "n = 15\n",
    "\n",
    "if n >= 10 and n <= 20:\n",
    "    print('n is between 10 and 20')\n",
    "else:\n",
    "    print('n is not between 10 and 20')"
   ]
  },
  {
   "cell_type": "code",
   "execution_count": 15,
   "metadata": {},
   "outputs": [
    {
     "name": "stdout",
     "output_type": "stream",
     "text": [
      "n is between 10 and 20\n"
     ]
    }
   ],
   "source": [
    "if 10 <= n <= 20:\n",
    "    print('n is between 10 and 20')\n",
    "else:\n",
    "    print('n is not between 10 and 20')"
   ]
  },
  {
   "cell_type": "code",
   "execution_count": 16,
   "metadata": {},
   "outputs": [
    {
     "name": "stdout",
     "output_type": "stream",
     "text": [
      "n is between 10 and 20\n"
     ]
    }
   ],
   "source": [
    "if n > 10:\n",
    "    if n < 20:\n",
    "        print('n is between 10 and 20')\n",
    "    else:\n",
    "        print('n is not between 10 and 20')\n",
    "else:\n",
    "    print('n is not between 10 and 20')"
   ]
  },
  {
   "cell_type": "code",
   "execution_count": 17,
   "metadata": {},
   "outputs": [
    {
     "name": "stdout",
     "output_type": "stream",
     "text": [
      "You are a teenager\n"
     ]
    }
   ],
   "source": [
    "# 12. Demander à l'utilisateur un âge et afficher s'il est un enfant (moins de 12 ans), un adolescent (entre 12 et 18 ans) ou un adulte (plus de 18 ans).\n",
    "\n",
    "age = int(input('Enter your age: '))\n",
    "\n",
    "if age <= 12:\n",
    "    print('You are a child')\n",
    "elif age <= 17:\n",
    "    print('You are a teenager')\n",
    "else:\n",
    "    print('You are an adult')"
   ]
  },
  {
   "cell_type": "code",
   "execution_count": 18,
   "metadata": {},
   "outputs": [
    {
     "name": "stdout",
     "output_type": "stream",
     "text": [
      "You are a teenager\n"
     ]
    }
   ],
   "source": [
    "if age < 18:\n",
    "    if age < 12:\n",
    "        print('You are a child')\n",
    "    else:\n",
    "        print('You are a teenager')\n",
    "else:\n",
    "    print('You are an adult')"
   ]
  },
  {
   "cell_type": "code",
   "execution_count": 19,
   "metadata": {},
   "outputs": [
    {
     "name": "stdout",
     "output_type": "stream",
     "text": [
      "It is a leap year\n"
     ]
    }
   ],
   "source": [
    "# 13. Créer un programme qui vérifie si une année est bissextile ou non.\n",
    "\n",
    "year = 360\n",
    "\n",
    "if year % 4 == 0 and year % 100 != 0 or year % 400 == 0:\n",
    "    print('It is a leap year')\n",
    "else:\n",
    "    print('It is not a leap year')"
   ]
  },
  {
   "cell_type": "code",
   "execution_count": 20,
   "metadata": {},
   "outputs": [
    {
     "name": "stdout",
     "output_type": "stream",
     "text": [
      "It is a leap year\n"
     ]
    }
   ],
   "source": [
    "if year % 4 == 0:\n",
    "    if year % 100 != 0 or year % 400 == 0:\n",
    "            print('It is a leap year')\n",
    "    else:\n",
    "        print('It is not a leap year')\n",
    "else:\n",
    "    print('It is not a leap year')"
   ]
  },
  {
   "cell_type": "code",
   "execution_count": 21,
   "metadata": {},
   "outputs": [
    {
     "name": "stdout",
     "output_type": "stream",
     "text": [
      "n is a positive multiple of 5\n"
     ]
    }
   ],
   "source": [
    "# 14. Vérifier si un nombre est positif et multiple de 5.\n",
    "\n",
    "n = 15\n",
    "\n",
    "if n > 0 and n % 5 == 0:\n",
    "    print('n is a positive multiple of 5')\n",
    "else:\n",
    "    print('n is not a positive multiple of 5')"
   ]
  },
  {
   "cell_type": "code",
   "execution_count": 22,
   "metadata": {},
   "outputs": [
    {
     "name": "stdout",
     "output_type": "stream",
     "text": [
      "n is a positive multiple of 5\n"
     ]
    }
   ],
   "source": [
    "if n > 0:\n",
    "    if n % 5 == 0:\n",
    "        print('n is a positive multiple of 5')\n",
    "    else:\n",
    "        print('n is not a multiple of 5')\n",
    "else:\n",
    "    print('n is not a positive number')"
   ]
  },
  {
   "cell_type": "code",
   "execution_count": 23,
   "metadata": {},
   "outputs": [
    {
     "name": "stdout",
     "output_type": "stream",
     "text": [
      "The word contains the letter a\n"
     ]
    }
   ],
   "source": [
    "# 15. Écrire un programme qui vérifie si une chaîne de caractères contient la lettre 'a'.\n",
    "\n",
    "word = 'apple'\n",
    "\n",
    "if 'a' in word:\n",
    "    print('The word contains the letter a')\n",
    "else:\n",
    "    print('The word does not contain the letter a')"
   ]
  },
  {
   "cell_type": "code",
   "execution_count": 24,
   "metadata": {},
   "outputs": [
    {
     "name": "stdout",
     "output_type": "stream",
     "text": [
      "n is divisible by 2 and 3 but not by 9\n"
     ]
    }
   ],
   "source": [
    "# 16. Vérifier si un nombre est divisible à la fois par 2 et par 3, mais pas par 9.\n",
    "\n",
    "n = 12\n",
    "\n",
    "if n % 2 == 0 and n % 3 == 0 and n % 9 != 0:\n",
    "    print('n is divisible by 2 and 3 but not by 9')\n",
    "else:\n",
    "    print('n is not divisible by 2 and 3 but not by 9')"
   ]
  },
  {
   "cell_type": "code",
   "execution_count": 25,
   "metadata": {},
   "outputs": [
    {
     "name": "stdout",
     "output_type": "stream",
     "text": [
      "n is divisible by 2 and 3 but not by 9\n"
     ]
    }
   ],
   "source": [
    "if n % 2 == 0:\n",
    "    if n % 3 == 0:\n",
    "        if n % 9 != 0:\n",
    "            print('n is divisible by 2 and 3 but not by 9')\n",
    "        else:\n",
    "            print('n is divisible by 9')\n",
    "    else:\n",
    "        print('n is not divisible by 3')\n",
    "else:\n",
    "    print('n is not divisible by 2')"
   ]
  },
  {
   "cell_type": "code",
   "execution_count": 26,
   "metadata": {},
   "outputs": [
    {
     "name": "stdout",
     "output_type": "stream",
     "text": [
      "Access granted\n"
     ]
    }
   ],
   "source": [
    "# 17. Demander à l'utilisateur un nom d'utilisateur et un mot de passe, et vérifier si les deux sont corrects.\n",
    "\n",
    "username = input('Enter the username: ')\n",
    "pwd = input('Enter the password: ')\n",
    "\n",
    "if username == 'admin' and pwd == 'admin':\n",
    "    print('Access granted')\n",
    "else:\n",
    "    print('Access denied')"
   ]
  },
  {
   "cell_type": "code",
   "execution_count": 27,
   "metadata": {},
   "outputs": [
    {
     "name": "stdout",
     "output_type": "stream",
     "text": [
      "Access granted\n"
     ]
    }
   ],
   "source": [
    "if username == 'admin':\n",
    "    if pwd == 'admin':\n",
    "        print('Access granted')\n",
    "    else:\n",
    "        print('Access denied')\n",
    "else:\n",
    "    print('Access denied')"
   ]
  },
  {
   "cell_type": "code",
   "execution_count": 28,
   "metadata": {},
   "outputs": [
    {
     "name": "stdout",
     "output_type": "stream",
     "text": [
      "Excellent\n"
     ]
    }
   ],
   "source": [
    "# 18. Écrire un programme qui affiche \"Excellent\" si la note est supérieure à 85, \"Bien\" si elle est entre 70 et 85, sinon afficher \"Peut mieux faire\".\n",
    "\n",
    "score = 86\n",
    "\n",
    "if score >= 85:\n",
    "    print('Excellent')\n",
    "elif score >= 70:\n",
    "    print('Good')\n",
    "else:\n",
    "    print('Need improvement')"
   ]
  },
  {
   "cell_type": "code",
   "execution_count": 29,
   "metadata": {},
   "outputs": [
    {
     "name": "stdout",
     "output_type": "stream",
     "text": [
      "Excellent\n"
     ]
    }
   ],
   "source": [
    "if score < 70:\n",
    "    print('Need improvement')\n",
    "else:\n",
    "    if score < 85:\n",
    "        print('Good')\n",
    "    else:\n",
    "        print('Excellent')"
   ]
  },
  {
   "cell_type": "code",
   "execution_count": 30,
   "metadata": {},
   "outputs": [
    {
     "name": "stdout",
     "output_type": "stream",
     "text": [
      "The word is a palindrome\n"
     ]
    }
   ],
   "source": [
    "# 19. Créer un programme qui vérifie si une chaîne de caractères est un palindrome.\n",
    "\n",
    "word = 'kawak'\n",
    "\n",
    "if word == word[::-1]:\n",
    "    print('The word is a palindrome')"
   ]
  },
  {
   "cell_type": "code",
   "execution_count": 31,
   "metadata": {},
   "outputs": [
    {
     "name": "stdout",
     "output_type": "stream",
     "text": [
      "n is a positive even number greater than 100\n"
     ]
    }
   ],
   "source": [
    "# 20. Écrire un programme qui vérifie si un nombre est à la fois positif, pair et supérieur à 100.\n",
    "\n",
    "n = 222\n",
    "\n",
    "if n > 0 and n % 2 == 0 and n > 100:\n",
    "    print('n is a positive even number greater than 100')"
   ]
  },
  {
   "cell_type": "code",
   "execution_count": 32,
   "metadata": {},
   "outputs": [
    {
     "name": "stdout",
     "output_type": "stream",
     "text": [
      "n is a positive even number greater than 100\n"
     ]
    }
   ],
   "source": [
    "if n > 0:\n",
    "    if n % 2 == 0:\n",
    "        if n > 100:\n",
    "            print('n is a positive even number greater than 100')\n",
    "        else:\n",
    "            print('n is not greater than 100')\n",
    "    else:\n",
    "        print('n is not an even number')\n",
    "else:\n",
    "    print('n is not a positive number')"
   ]
  },
  {
   "cell_type": "markdown",
   "metadata": {},
   "source": [
    "## *3. Boucles simples*"
   ]
  },
  {
   "cell_type": "code",
   "execution_count": 33,
   "metadata": {},
   "outputs": [
    {
     "name": "stdout",
     "output_type": "stream",
     "text": [
      "1\n",
      "2\n",
      "3\n",
      "4\n",
      "5\n",
      "6\n",
      "7\n",
      "8\n",
      "9\n",
      "10\n"
     ]
    }
   ],
   "source": [
    "# 21. Afficher les nombres de 1 à 10 avec une boucle `for`.\n",
    "\n",
    "for i in range(1, 11):\n",
    "    print(i)"
   ]
  },
  {
   "cell_type": "code",
   "execution_count": 34,
   "metadata": {},
   "outputs": [
    {
     "name": "stdout",
     "output_type": "stream",
     "text": [
      "2\n",
      "4\n",
      "6\n",
      "8\n",
      "10\n",
      "12\n",
      "14\n",
      "16\n",
      "18\n",
      "20\n"
     ]
    }
   ],
   "source": [
    "# 22. Afficher les nombres pairs entre 1 et 20.\n",
    "\n",
    "for i in range(1, 21):\n",
    "    if i % 2 == 0:\n",
    "        print(i)"
   ]
  },
  {
   "cell_type": "code",
   "execution_count": 35,
   "metadata": {},
   "outputs": [
    {
     "name": "stdout",
     "output_type": "stream",
     "text": [
      "apple\n",
      "banana\n",
      "cherry\n"
     ]
    }
   ],
   "source": [
    "# 23. Utiliser une boucle pour afficher chaque élément d'une liste.\n",
    "\n",
    "word_list = ['apple', 'banana', 'cherry']\n",
    "\n",
    "for word in word_list:\n",
    "    print(word)"
   ]
  },
  {
   "cell_type": "code",
   "execution_count": 36,
   "metadata": {},
   "outputs": [
    {
     "name": "stdout",
     "output_type": "stream",
     "text": [
      "15 x 1 = 15\n",
      "15 x 2 = 30\n",
      "15 x 3 = 45\n",
      "15 x 4 = 60\n",
      "15 x 5 = 75\n",
      "15 x 6 = 90\n",
      "15 x 7 = 105\n",
      "15 x 8 = 120\n",
      "15 x 9 = 135\n",
      "15 x 10 = 150\n",
      "15 x 11 = 165\n",
      "15 x 12 = 180\n"
     ]
    }
   ],
   "source": [
    "# 24. Demander à l'utilisateur un nombre de 1 à 10 et afficher la table de multiplication.\n",
    "\n",
    "n = int(input('Enter a number: '))\n",
    "\n",
    "for i in range(1, 13):\n",
    "    print(f'{n} x {i} = {n * i}')"
   ]
  },
  {
   "cell_type": "code",
   "execution_count": 37,
   "metadata": {},
   "outputs": [
    {
     "name": "stdout",
     "output_type": "stream",
     "text": [
      "a\n",
      "p\n",
      "p\n",
      "l\n",
      "e\n"
     ]
    }
   ],
   "source": [
    "# 25. Afficher les éléments d'une chaîne de caractères un par un.\n",
    "\n",
    "word = 'apple'\n",
    "\n",
    "for char in word:\n",
    "    print(char)"
   ]
  },
  {
   "cell_type": "code",
   "execution_count": 38,
   "metadata": {},
   "outputs": [
    {
     "name": "stdout",
     "output_type": "stream",
     "text": [
      "0\n",
      "10\n",
      "20\n",
      "30\n",
      "40\n",
      "50\n",
      "60\n",
      "70\n",
      "80\n",
      "90\n",
      "100\n"
     ]
    }
   ],
   "source": [
    "# 26. Utiliser `range()` pour afficher les nombres de 0 à 100 avec un pas de 10.\n",
    "\n",
    "for i in range(0, 101, 10):\n",
    "    print(i)"
   ]
  },
  {
   "cell_type": "code",
   "execution_count": 39,
   "metadata": {},
   "outputs": [
    {
     "data": {
      "text/plain": [
       "[0, 10, 20, 30, 40, 50, 60, 70, 80, 90, 100]"
      ]
     },
     "execution_count": 39,
     "metadata": {},
     "output_type": "execute_result"
    }
   ],
   "source": [
    "[i for i in range(0, 101, 10)]"
   ]
  },
  {
   "cell_type": "code",
   "execution_count": 40,
   "metadata": {},
   "outputs": [
    {
     "name": "stdout",
     "output_type": "stream",
     "text": [
      "0 : apple\n",
      "1 : banana\n",
      "2 : cherry\n"
     ]
    }
   ],
   "source": [
    "# 27. Afficher les éléments d'une liste avec leurs indices.\n",
    "\n",
    "word_list = ['apple', 'banana', 'cherry']\n",
    "\n",
    "for i in range(len(word_list)):\n",
    "    print(f'{i} : {word_list[i]}')"
   ]
  },
  {
   "cell_type": "code",
   "execution_count": 41,
   "metadata": {},
   "outputs": [
    {
     "name": "stdout",
     "output_type": "stream",
     "text": [
      "10\n",
      "9\n",
      "8\n",
      "7\n",
      "6\n",
      "5\n",
      "4\n",
      "3\n",
      "2\n",
      "1\n"
     ]
    }
   ],
   "source": [
    "# 28. Afficher les nombres de 10 à 1 en ordre décroissant avec une boucle `for`.\n",
    "\n",
    "for i in range(10, 0, -1):\n",
    "    print(i)"
   ]
  },
  {
   "cell_type": "code",
   "execution_count": 42,
   "metadata": {},
   "outputs": [
    {
     "name": "stdout",
     "output_type": "stream",
     "text": [
      "1275\n"
     ]
    }
   ],
   "source": [
    "# 29. Créer une boucle qui calcule la somme des nombres de 1 à 50.\n",
    "\n",
    "n_sum = 0\n",
    "\n",
    "for i in range(51):\n",
    "    n_sum += i\n",
    "\n",
    "print(n_sum)"
   ]
  },
  {
   "cell_type": "code",
   "execution_count": 43,
   "metadata": {},
   "outputs": [
    {
     "name": "stdout",
     "output_type": "stream",
     "text": [
      "1275\n"
     ]
    }
   ],
   "source": [
    "# 29. Créer une boucle qui calcule la somme des nombres de 1 à 50.\n",
    "\n",
    "n_sum = 0\n",
    "\n",
    "for i in range(51):\n",
    "    n_sum = n_sum + i\n",
    "\n",
    "print(n_sum)"
   ]
  },
  {
   "cell_type": "code",
   "execution_count": 44,
   "metadata": {},
   "outputs": [
    {
     "name": "stdout",
     "output_type": "stream",
     "text": [
      "abcdefghijklmnopqrstuvwxyzABCDEFGHIJKLMNOPQRSTUVWXYZ\n",
      "ABCDEFGHIJKLMNOPQRSTUVWXYZ\n",
      "abcdefghijklmnopqrstuvwxyz\n"
     ]
    }
   ],
   "source": [
    "# 30. Utiliser une boucle pour afficher les 5 premières lettres de l'alphabet.\n",
    "\n",
    "import string\n",
    "\n",
    "# Alphabet en minuscules et en majuscules\n",
    "alphabet = string.ascii_letters\n",
    "print(alphabet)\n",
    "\n",
    "# Alphabet en majuscules\n",
    "alphabet = string.ascii_uppercase\n",
    "print(alphabet)\n",
    "\n",
    "# Alphabet en minuscules\n",
    "alphabet = string.ascii_lowercase\n",
    "print(alphabet)"
   ]
  },
  {
   "cell_type": "code",
   "execution_count": 45,
   "metadata": {},
   "outputs": [
    {
     "name": "stdout",
     "output_type": "stream",
     "text": [
      "a\n",
      "b\n",
      "c\n",
      "d\n",
      "e\n"
     ]
    }
   ],
   "source": [
    "for char in alphabet[:5]:\n",
    "    print(char)"
   ]
  },
  {
   "cell_type": "code",
   "execution_count": 46,
   "metadata": {},
   "outputs": [
    {
     "name": "stdout",
     "output_type": "stream",
     "text": [
      "a\n",
      "b\n",
      "c\n",
      "d\n",
      "e\n"
     ]
    }
   ],
   "source": [
    "for i in range(5):\n",
    "    print(alphabet[i])"
   ]
  },
  {
   "cell_type": "markdown",
   "metadata": {},
   "source": [
    "## *4. Boucles `while`*"
   ]
  },
  {
   "cell_type": "code",
   "execution_count": 47,
   "metadata": {},
   "outputs": [
    {
     "name": "stdout",
     "output_type": "stream",
     "text": [
      "1\n",
      "2\n",
      "3\n",
      "4\n",
      "5\n",
      "6\n",
      "7\n",
      "8\n",
      "9\n",
      "10\n"
     ]
    }
   ],
   "source": [
    "# 31. Utiliser une boucle `while` pour afficher les nombres de 1 à 10.\n",
    "\n",
    "n = 1\n",
    "\n",
    "while n <= 10:\n",
    "    print(n)\n",
    "    n += 1"
   ]
  },
  {
   "cell_type": "code",
   "execution_count": 48,
   "metadata": {},
   "outputs": [
    {
     "name": "stdout",
     "output_type": "stream",
     "text": [
      "1\n",
      "2\n",
      "3\n",
      "4\n",
      "5\n",
      "6\n",
      "7\n",
      "8\n",
      "9\n",
      "10\n"
     ]
    }
   ],
   "source": [
    "n = 0\n",
    "\n",
    "while n < 10:\n",
    "    n += 1\n",
    "    print(n)"
   ]
  },
  {
   "cell_type": "code",
   "execution_count": 49,
   "metadata": {},
   "outputs": [
    {
     "name": "stdout",
     "output_type": "stream",
     "text": [
      "5050\n"
     ]
    }
   ],
   "source": [
    "# 32. Utiliser une boucle `while` pour calculer la somme des nombres de 1 à 100.\n",
    "\n",
    "n_sum = 0\n",
    "count = 1\n",
    "\n",
    "while count <= 100:\n",
    "    n_sum += count\n",
    "    count += 1\n",
    "\n",
    "print(n_sum)"
   ]
  },
  {
   "cell_type": "code",
   "execution_count": 50,
   "metadata": {},
   "outputs": [],
   "source": [
    "# 33. Demander à l'utilisateur un nombre et continuer à demander tant que ce nombre est négatif.\n",
    "\n",
    "input_num = -1\n",
    "\n",
    "while input_num <= 0:\n",
    "    input_num = int(input('Enter a positive number:'))"
   ]
  },
  {
   "cell_type": "code",
   "execution_count": 51,
   "metadata": {},
   "outputs": [],
   "source": [
    "# 34. Créer une boucle infinie qui demande un mot de passe jusqu'à ce qu'il soit correct.\n",
    "\n",
    "pwd = ''\n",
    "\n",
    "while pwd != '1234':\n",
    "    pwd = input('Enter password:')"
   ]
  },
  {
   "cell_type": "code",
   "execution_count": 52,
   "metadata": {},
   "outputs": [
    {
     "name": "stdout",
     "output_type": "stream",
     "text": [
      "0\n",
      "5\n",
      "10\n",
      "15\n",
      "20\n",
      "25\n",
      "30\n",
      "35\n",
      "40\n",
      "45\n",
      "50\n",
      "55\n",
      "60\n",
      "65\n",
      "70\n",
      "75\n",
      "80\n",
      "85\n",
      "90\n",
      "95\n",
      "100\n"
     ]
    }
   ],
   "source": [
    "# 35. Utiliser `while` pour afficher les multiples de 5 entre 1 et 50.\n",
    "\n",
    "count = 0\n",
    "\n",
    "while count <= 100:\n",
    "    if count % 5 == 0:\n",
    "        print(count)\n",
    "    count += 1"
   ]
  },
  {
   "cell_type": "code",
   "execution_count": 53,
   "metadata": {},
   "outputs": [
    {
     "name": "stdout",
     "output_type": "stream",
     "text": [
      "1\n",
      "2\n",
      "3\n",
      "4\n",
      "5\n",
      "6\n",
      "7\n",
      "8\n",
      "9\n",
      "10\n",
      "End of loop\n"
     ]
    }
   ],
   "source": [
    "# 36. Écrire une boucle qui affiche les nombres de 1 à 10, puis termine avec un message \"Fin de la boucle\".\n",
    "\n",
    "count = 0\n",
    "\n",
    "while count < 10:\n",
    "    count += 1\n",
    "    print(count)\n",
    "print('End of loop')"
   ]
  },
  {
   "cell_type": "code",
   "execution_count": 54,
   "metadata": {},
   "outputs": [
    {
     "name": "stdout",
     "output_type": "stream",
     "text": [
      "10\n",
      "9\n",
      "8\n",
      "7\n",
      "6\n",
      "5\n",
      "4\n",
      "3\n",
      "2\n",
      "1\n",
      "0\n"
     ]
    }
   ],
   "source": [
    "# 37. Créer une boucle `while` qui décrémente un nombre à partir de 10 jusqu'à 0.\n",
    "\n",
    "count = 10\n",
    "\n",
    "while count >= 0 :\n",
    "    print(count)\n",
    "    count -= 1"
   ]
  },
  {
   "cell_type": "code",
   "execution_count": 55,
   "metadata": {},
   "outputs": [
    {
     "name": "stdout",
     "output_type": "stream",
     "text": [
      "1\n",
      "2\n",
      "6\n",
      "24\n",
      "120\n"
     ]
    }
   ],
   "source": [
    "# 38. Demander un nombre à l'utilisateur et calculer sa factorielle avec une boucle `while`.\n",
    "\n",
    "facto = int(input('Enter a number:'))\n",
    "facto_sum = 1\n",
    "facto_count = 1\n",
    "\n",
    "while facto_count <= facto:\n",
    "    facto_sum = facto_sum * facto_count\n",
    "    facto_count += 1\n",
    "\n",
    "    print(facto_sum)"
   ]
  },
  {
   "cell_type": "code",
   "execution_count": 56,
   "metadata": {},
   "outputs": [
    {
     "name": "stdout",
     "output_type": "stream",
     "text": [
      "6\n",
      "12\n",
      "18\n",
      "24\n",
      "30\n",
      "36\n",
      "42\n",
      "48\n",
      "54\n",
      "60\n",
      "66\n",
      "72\n",
      "78\n",
      "84\n",
      "90\n",
      "96\n",
      "102\n",
      "108\n",
      "114\n",
      "120\n",
      "126\n",
      "132\n",
      "138\n",
      "144\n",
      "150\n",
      "156\n",
      "162\n",
      "168\n",
      "174\n",
      "180\n",
      "186\n",
      "192\n",
      "198\n"
     ]
    }
   ],
   "source": [
    "# 39. Afficher les nombres pairs de 2 à 200 si ils sont divisible par 3 avec une boucle `while`.\n",
    "\n",
    "count = 2\n",
    "\n",
    "while count <= 200:\n",
    "    if count % 3 == 0:\n",
    "        print(count)\n",
    "    count += 2"
   ]
  },
  {
   "cell_type": "code",
   "execution_count": 57,
   "metadata": {},
   "outputs": [
    {
     "name": "stdout",
     "output_type": "stream",
     "text": [
      "[54, 6, 8, 7, 5]\n"
     ]
    }
   ],
   "source": [
    "# 40. Écrire un programme qui demande à l'utilisateur de saisir des nombres positifs et de les ajouter à une liste. Le programme doit continuer à demander des nombres tant que la longueur de la liste ne dépasse pas 5.\n",
    "\n",
    "elements_list = []\n",
    "\n",
    "while len(elements_list) < 5:\n",
    "    n_input = int(input(\"Enter a positive number:\"))\n",
    "    if n_input > 0:\n",
    "        elements_list.append(n_input)\n",
    "\n",
    "print(elements_list)"
   ]
  },
  {
   "cell_type": "markdown",
   "metadata": {},
   "source": [
    "## *5. Utilisation des boucles avec `break` et `continue`*"
   ]
  },
  {
   "cell_type": "code",
   "execution_count": 58,
   "metadata": {},
   "outputs": [
    {
     "name": "stdout",
     "output_type": "stream",
     "text": [
      "1\n",
      "2\n",
      "3\n",
      "4\n",
      "5\n",
      "6\n",
      "7\n",
      "8\n",
      "9\n",
      "10\n"
     ]
    }
   ],
   "source": [
    "# 41. Utiliser une boucle pour afficher les nombres de 1 à 20, mais arrêter dès que vous atteignez 10.\n",
    "\n",
    "for i in range(1, 21):\n",
    "    print(i)\n",
    "    if i == 10:\n",
    "        break"
   ]
  },
  {
   "cell_type": "code",
   "execution_count": 59,
   "metadata": {},
   "outputs": [
    {
     "name": "stdout",
     "output_type": "stream",
     "text": [
      "Stopping the loop.\n"
     ]
    }
   ],
   "source": [
    "# 42. Créer une boucle qui demande un nombre et s'arrête si le nombre est 0.\n",
    "\n",
    "while True:\n",
    "    number = int(input(\"Enter a number (0 to stop): \"))\n",
    "    if number == 0:\n",
    "        print(\"Stopping the loop.\")\n",
    "        break\n",
    "    else:\n",
    "        print('Number selected:', number)"
   ]
  },
  {
   "cell_type": "code",
   "execution_count": 60,
   "metadata": {},
   "outputs": [],
   "source": [
    "number = int(input(\"Enter a number (0 to stop): \"))\n",
    "\n",
    "while number != 0:\n",
    "    number = int(input(\"Enter a number (0 to stop): \"))\n",
    "    print('Number selected:', number)"
   ]
  },
  {
   "cell_type": "code",
   "execution_count": 61,
   "metadata": {},
   "outputs": [
    {
     "name": "stdout",
     "output_type": "stream",
     "text": [
      "1\n",
      "3\n",
      "5\n",
      "7\n",
      "9\n"
     ]
    }
   ],
   "source": [
    "# 43. Utiliser `continue` pour afficher uniquement les nombres impairs de 1 à 10.\n",
    "\n",
    "count = 0\n",
    "\n",
    "while count < 10:\n",
    "    count += 1\n",
    "    if count % 2 == 0:\n",
    "        continue\n",
    "    print(count)"
   ]
  },
  {
   "cell_type": "code",
   "execution_count": 62,
   "metadata": {},
   "outputs": [
    {
     "name": "stdout",
     "output_type": "stream",
     "text": [
      "1\n",
      "2\n",
      "4\n",
      "5\n",
      "7\n",
      "8\n",
      "10\n",
      "11\n",
      "13\n",
      "14\n",
      "16\n",
      "17\n",
      "19\n"
     ]
    }
   ],
   "source": [
    "# 44. Écrire une boucle qui affiche les nombres de 1 à 20, mais saute les multiples de 3.\n",
    "\n",
    "for i in range(1, 20):\n",
    "    if i % 3 == 0:\n",
    "        continue\n",
    "    print(i)"
   ]
  },
  {
   "cell_type": "code",
   "execution_count": 63,
   "metadata": {},
   "outputs": [
    {
     "name": "stdout",
     "output_type": "stream",
     "text": [
      "1\n",
      "2\n",
      "3\n"
     ]
    }
   ],
   "source": [
    "# 45. Demander à l'utilisateur un nombre et afficher tous les nombres de 1 à ce nombre, sauf ceux divisibles par 4.\n",
    "\n",
    "user_number = int(input('Enter a number:'))\n",
    "\n",
    "for i in range(user_number):\n",
    "    if i % 4 == 0:\n",
    "        continue\n",
    "    print(i)"
   ]
  },
  {
   "cell_type": "code",
   "execution_count": 64,
   "metadata": {},
   "outputs": [
    {
     "name": "stdout",
     "output_type": "stream",
     "text": [
      "1\n",
      "2\n",
      "3\n"
     ]
    }
   ],
   "source": [
    "user_number = int(input('Enter a number:'))\n",
    "\n",
    "for i in range(user_number):\n",
    "    if i % 4 != 0:\n",
    "        print(i)"
   ]
  },
  {
   "cell_type": "code",
   "execution_count": 65,
   "metadata": {},
   "outputs": [
    {
     "name": "stdout",
     "output_type": "stream",
     "text": [
      "Element: apple\n",
      "Element: banana\n",
      "Stopping at element: cherry\n"
     ]
    }
   ],
   "source": [
    "# 46. Créer une boucle qui affiche les éléments d'une liste mais s'arrête dès qu'elle rencontre un élément spécifique.\n",
    "\n",
    "elements = ['apple', 'banana', 'cherry', 'orange', 'grape']\n",
    "stop_element = 'cherry'\n",
    "\n",
    "i = 0\n",
    "while i < len(elements):\n",
    "    if elements[i] == stop_element:\n",
    "        print(f\"Stopping at element: {elements[i]}\")\n",
    "        break\n",
    "    print(f\"Element: {elements[i]}\")\n",
    "    i += 1\n"
   ]
  },
  {
   "cell_type": "code",
   "execution_count": 66,
   "metadata": {},
   "outputs": [
    {
     "name": "stdout",
     "output_type": "stream",
     "text": [
      "1\n",
      "2\n",
      "3\n",
      "4\n",
      "5\n"
     ]
    }
   ],
   "source": [
    "# 47. Utiliser `break` pour quitter une boucle infinie après 5 itérations.\n",
    "\n",
    "count = 1\n",
    "\n",
    "while True:\n",
    "    print(count)\n",
    "    if count == 5:\n",
    "        break\n",
    "    count += 1"
   ]
  },
  {
   "cell_type": "code",
   "execution_count": 67,
   "metadata": {},
   "outputs": [
    {
     "name": "stdout",
     "output_type": "stream",
     "text": [
      "Hllo my nm is Bnjmin.\n"
     ]
    }
   ],
   "source": [
    "# 48. Utiliser `continue` pour ignorer les lettres 'a' et 'e' lors de l'affichage des lettres d'un mot.\n",
    "\n",
    "sentence = 'Hello my name is Benjamin.'\n",
    "new_sentence = ''\n",
    "\n",
    "for element in sentence:\n",
    "    if 'a' == element or element == 'e':\n",
    "        continue\n",
    "    new_sentence += element\n",
    "\n",
    "print(new_sentence)"
   ]
  },
  {
   "cell_type": "code",
   "execution_count": 68,
   "metadata": {},
   "outputs": [
    {
     "name": "stdout",
     "output_type": "stream",
     "text": [
      "sa\n",
      "Stopping loop!\n"
     ]
    }
   ],
   "source": [
    "# 49. Écrire une boucle qui demande à l'utilisateur de saisir un mot, mais qui s'arrête dès qu'il entre \"stop\".\n",
    "\n",
    "while True:\n",
    "    word = input('Enter a word:')\n",
    "    if word.lower() == 'stop':\n",
    "        print('Stopping loop!')\n",
    "        break\n",
    "    else:\n",
    "        print(word)"
   ]
  },
  {
   "cell_type": "code",
   "execution_count": 69,
   "metadata": {},
   "outputs": [
    {
     "name": "stdout",
     "output_type": "stream",
     "text": [
      "apple\n",
      "banana\n",
      "cherry\n",
      "orange\n",
      "grape\n",
      "\n",
      "'apple' already printed\n"
     ]
    }
   ],
   "source": [
    "# 50. Afficher les éléments d’une liste, arrêter la boucle si un même élément apparaît une deuxième fois.\n",
    "\n",
    "elements = ['apple', 'banana', 'cherry', 'orange', 'grape', 'apple', 'banana', 'cherry', 'orange', 'grape']\n",
    "already_prints = []\n",
    "\n",
    "for e in elements:\n",
    "    if e in already_prints:\n",
    "        print(f\"\\n'{e}' already printed\")\n",
    "        break\n",
    "    print(e)\n",
    "    already_prints.append(e)"
   ]
  },
  {
   "cell_type": "markdown",
   "metadata": {},
   "source": [
    "## *6. Boucles imbriquées*"
   ]
  },
  {
   "cell_type": "code",
   "execution_count": 70,
   "metadata": {},
   "outputs": [
    {
     "name": "stdout",
     "output_type": "stream",
     "text": [
      "Multiplication Table 1\n",
      "\n",
      "1 x 1 = 1\n",
      "1 x 2 = 2\n",
      "1 x 3 = 3\n",
      "1 x 4 = 4\n",
      "1 x 5 = 5\n",
      "1 x 6 = 6\n",
      "1 x 7 = 7\n",
      "1 x 8 = 8\n",
      "1 x 9 = 9\n",
      "1 x 10 = 10\n",
      "\n",
      "Multiplication Table 2\n",
      "\n",
      "2 x 1 = 2\n",
      "2 x 2 = 4\n",
      "2 x 3 = 6\n",
      "2 x 4 = 8\n",
      "2 x 5 = 10\n",
      "2 x 6 = 12\n",
      "2 x 7 = 14\n",
      "2 x 8 = 16\n",
      "2 x 9 = 18\n",
      "2 x 10 = 20\n",
      "\n",
      "Multiplication Table 3\n",
      "\n",
      "3 x 1 = 3\n",
      "3 x 2 = 6\n",
      "3 x 3 = 9\n",
      "3 x 4 = 12\n",
      "3 x 5 = 15\n",
      "3 x 6 = 18\n",
      "3 x 7 = 21\n",
      "3 x 8 = 24\n",
      "3 x 9 = 27\n",
      "3 x 10 = 30\n",
      "\n",
      "Multiplication Table 4\n",
      "\n",
      "4 x 1 = 4\n",
      "4 x 2 = 8\n",
      "4 x 3 = 12\n",
      "4 x 4 = 16\n",
      "4 x 5 = 20\n",
      "4 x 6 = 24\n",
      "4 x 7 = 28\n",
      "4 x 8 = 32\n",
      "4 x 9 = 36\n",
      "4 x 10 = 40\n",
      "\n",
      "Multiplication Table 5\n",
      "\n",
      "5 x 1 = 5\n",
      "5 x 2 = 10\n",
      "5 x 3 = 15\n",
      "5 x 4 = 20\n",
      "5 x 5 = 25\n",
      "5 x 6 = 30\n",
      "5 x 7 = 35\n",
      "5 x 8 = 40\n",
      "5 x 9 = 45\n",
      "5 x 10 = 50\n",
      "\n",
      "Multiplication Table 6\n",
      "\n",
      "6 x 1 = 6\n",
      "6 x 2 = 12\n",
      "6 x 3 = 18\n",
      "6 x 4 = 24\n",
      "6 x 5 = 30\n",
      "6 x 6 = 36\n",
      "6 x 7 = 42\n",
      "6 x 8 = 48\n",
      "6 x 9 = 54\n",
      "6 x 10 = 60\n",
      "\n",
      "Multiplication Table 7\n",
      "\n",
      "7 x 1 = 7\n",
      "7 x 2 = 14\n",
      "7 x 3 = 21\n",
      "7 x 4 = 28\n",
      "7 x 5 = 35\n",
      "7 x 6 = 42\n",
      "7 x 7 = 49\n",
      "7 x 8 = 56\n",
      "7 x 9 = 63\n",
      "7 x 10 = 70\n",
      "\n",
      "Multiplication Table 8\n",
      "\n",
      "8 x 1 = 8\n",
      "8 x 2 = 16\n",
      "8 x 3 = 24\n",
      "8 x 4 = 32\n",
      "8 x 5 = 40\n",
      "8 x 6 = 48\n",
      "8 x 7 = 56\n",
      "8 x 8 = 64\n",
      "8 x 9 = 72\n",
      "8 x 10 = 80\n",
      "\n",
      "Multiplication Table 9\n",
      "\n",
      "9 x 1 = 9\n",
      "9 x 2 = 18\n",
      "9 x 3 = 27\n",
      "9 x 4 = 36\n",
      "9 x 5 = 45\n",
      "9 x 6 = 54\n",
      "9 x 7 = 63\n",
      "9 x 8 = 72\n",
      "9 x 9 = 81\n",
      "9 x 10 = 90\n",
      "\n",
      "Multiplication Table 10\n",
      "\n",
      "10 x 1 = 10\n",
      "10 x 2 = 20\n",
      "10 x 3 = 30\n",
      "10 x 4 = 40\n",
      "10 x 5 = 50\n",
      "10 x 6 = 60\n",
      "10 x 7 = 70\n",
      "10 x 8 = 80\n",
      "10 x 9 = 90\n",
      "10 x 10 = 100\n",
      "\n"
     ]
    }
   ],
   "source": [
    "# 51. Écrire un programme qui affiche la table de multiplication de 1 à 10 avec des boucles imbriquées.\n",
    "\n",
    "for i in range(1, 11):\n",
    "    print(f'Multiplication Table {i}\\n')\n",
    "    for j in range(1,11):\n",
    "        print(f\"{i} x {j} = {i * j}\")\n",
    "    print()"
   ]
  },
  {
   "cell_type": "code",
   "execution_count": 71,
   "metadata": {},
   "outputs": [
    {
     "name": "stdout",
     "output_type": "stream",
     "text": [
      "XXXXX\n",
      "XXXXX\n",
      "XXXXX\n",
      "XXXXX\n",
      "XXXXX\n"
     ]
    }
   ],
   "source": [
    "# 52. Créer un programme qui affiche un rectangle de caractères \"X\" de taille donnée par l'utilisateur.\n",
    "\n",
    "n = int(input('Enter a number:'))\n",
    "\n",
    "i = 0\n",
    "while i < n:\n",
    "    print(\"X\" * n)\n",
    "    i += 1"
   ]
  },
  {
   "cell_type": "code",
   "execution_count": 72,
   "metadata": {},
   "outputs": [
    {
     "name": "stdout",
     "output_type": "stream",
     "text": [
      "1\n",
      "22\n",
      "333\n",
      "4444\n",
      "55555\n",
      "666666\n",
      "7777777\n",
      "88888888\n",
      "999999999\n"
     ]
    }
   ],
   "source": [
    "# 53. Utiliser des boucles imbriquées pour afficher une pyramide de nombres.\n",
    "\n",
    "n = 10\n",
    "\n",
    "for j in range(1, n):\n",
    "    print(str(j) * j)"
   ]
  },
  {
   "cell_type": "code",
   "execution_count": 73,
   "metadata": {},
   "outputs": [
    {
     "name": "stdout",
     "output_type": "stream",
     "text": [
      "1\n",
      "12\n",
      "123\n",
      "1234\n",
      "12345\n",
      "123456\n",
      "1234567\n",
      "12345678\n",
      "123456789\n"
     ]
    }
   ],
   "source": [
    "n = 9\n",
    "\n",
    "for i in range(1, n + 1):\n",
    "    for j in range(1, i + 1):\n",
    "        print(j, end=\"\")\n",
    "    print()\n"
   ]
  },
  {
   "cell_type": "code",
   "execution_count": 74,
   "metadata": {},
   "outputs": [
    {
     "name": "stdout",
     "output_type": "stream",
     "text": [
      "5\n",
      "89\n",
      "79\n",
      "4\n",
      "False\n",
      "8\n",
      "9\n",
      "12\n",
      "azed\n",
      "7.7\n",
      "9\n",
      "7.12\n",
      "aba\n",
      "4689\n",
      "True\n",
      "3\n"
     ]
    }
   ],
   "source": [
    "# 54. Afficher tous les éléments d'une liste de listes avec des boucles imbriquées. Exemple : \n",
    "\n",
    "elements = [\n",
    "    [5, 89, 79, 4, False],\n",
    "    [8, 9, 12, 'azed', 7.7, 9],\n",
    "    [7.12, \"aba\", 4689, True, 3],\n",
    "]\n",
    "\n",
    "for intern_list in elements:\n",
    "    for intern_element in intern_list:\n",
    "        print(intern_element)"
   ]
  },
  {
   "cell_type": "code",
   "execution_count": 75,
   "metadata": {},
   "outputs": [
    {
     "name": "stdout",
     "output_type": "stream",
     "text": [
      "5 : 8\n",
      "89 : 9\n",
      "79 : 12\n",
      "4 : azed\n",
      "False : 7.7\n"
     ]
    }
   ],
   "source": [
    "# 55. Créer une boucle qui parcourt deux listes de mêmes longueurs simultanément et affiche leurs éléments côte à côte. Exemple : \n",
    "\n",
    "list_0 = [5, 89, 79, 4, False]\n",
    "list_1 = [8, 9, 12, 'azed', 7.7]\n",
    "\n",
    "for i in range(len(list_0)):\n",
    "    print(list_0[i], ':', list_1[i])"
   ]
  },
  {
   "cell_type": "code",
   "execution_count": 76,
   "metadata": {},
   "outputs": [
    {
     "name": "stdout",
     "output_type": "stream",
     "text": [
      "5 x 8 = 40\n",
      "5 x 9.4 = 47.0\n",
      "5 x 12 = 60\n",
      "5 x 78 = 390\n",
      "5 x 7.7 = 38.5\n",
      "89 x 8 = 712\n",
      "89 x 9.4 = 836.6\n",
      "89 x 12 = 1068\n",
      "89 x 78 = 6942\n",
      "89 x 7.7 = 685.3000000000001\n",
      "79 x 8 = 632\n",
      "79 x 9.4 = 742.6\n",
      "79 x 12 = 948\n",
      "79 x 78 = 6162\n",
      "79 x 7.7 = 608.3000000000001\n",
      "4 x 8 = 32\n",
      "4 x 9.4 = 37.6\n",
      "4 x 12 = 48\n",
      "4 x 78 = 312\n",
      "4 x 7.7 = 30.8\n",
      "56 x 8 = 448\n",
      "56 x 9.4 = 526.4\n",
      "56 x 12 = 672\n",
      "56 x 78 = 4368\n",
      "56 x 7.7 = 431.2\n"
     ]
    }
   ],
   "source": [
    "# 56. Utiliser des boucles imbriquées pour calculer et afficher le produit de deux matrices. Exemple:\n",
    "\n",
    "matrix_0 = [5, 89, 79, 4, 56]\n",
    "matrix_1 = [8, 9.4, 12, 78, 7.7]\n",
    "\n",
    "for x in range(len(matrix_0)):\n",
    "    for y in range(len(matrix_1)):\n",
    "        print(f'{matrix_0[x]} x {matrix_1[y]} = {matrix_0[x] * matrix_1[y]}')"
   ]
  },
  {
   "cell_type": "code",
   "execution_count": 77,
   "metadata": {},
   "outputs": [
    {
     "name": "stdout",
     "output_type": "stream",
     "text": [
      "b\n",
      "o\n",
      "n\n",
      "h\n",
      "e\n",
      "u\n",
      "r\n",
      "\n",
      "i\n",
      "n\n",
      "t\n",
      "e\n",
      "l\n",
      "l\n",
      "i\n",
      "g\n",
      "e\n",
      "n\n",
      "c\n",
      "e\n",
      "\n",
      "p\n",
      "l\n",
      "a\n",
      "i\n",
      "s\n",
      "i\n",
      "r\n",
      "\n",
      "a\n",
      "p\n",
      "p\n",
      "r\n",
      "e\n",
      "n\n",
      "d\n",
      "r\n",
      "e\n",
      "\n"
     ]
    }
   ],
   "source": [
    "# 57. Écrire un programme qui parcourt une liste de chaînes de caractères et affiche chaque lettre individuellement.\n",
    "\n",
    "string_list = ['bonheur', 'intelligence', 'plaisir', 'apprendre']\n",
    "\n",
    "for word in string_list:\n",
    "    for char in word:\n",
    "        print(char)\n",
    "    print()"
   ]
  },
  {
   "cell_type": "code",
   "execution_count": 78,
   "metadata": {},
   "outputs": [
    {
     "name": "stdout",
     "output_type": "stream",
     "text": [
      "(0, 0) (0, 1) (0, 2) (0, 3) (0, 4) \n",
      "(1, 0) (1, 1) (1, 2) (1, 3) (1, 4) \n",
      "(2, 0) (2, 1) (2, 2) (2, 3) (2, 4) \n",
      "(3, 0) (3, 1) (3, 2) (3, 3) (3, 4) \n",
      "(4, 0) (4, 1) (4, 2) (4, 3) (4, 4) \n"
     ]
    }
   ],
   "source": [
    "# 58. Créer une boucle imbriquée pour générer les coordonnées (x, y) d'un quadrillage de 0 à 4.\n",
    "\n",
    "n = 5\n",
    "\n",
    "for i in range(n):\n",
    "    for j in range(n):\n",
    "        print(f\"({i}, {j})\", end=' ')\n",
    "    print()"
   ]
  },
  {
   "cell_type": "code",
   "execution_count": 79,
   "metadata": {},
   "outputs": [
    {
     "name": "stdout",
     "output_type": "stream",
     "text": [
      "1\t2\t3\t4\t\n",
      "5\t6\t7\t8\t\n",
      "9\t10\t11\t12\t\n",
      "13\t14\t15\t16\t\n"
     ]
    }
   ],
   "source": [
    "# 59. Créer une grille de caractères où chaque ligne et colonne est remplie de l'indice correspondant.\n",
    "\n",
    "n = 4\n",
    "\n",
    "count = 1\n",
    "\n",
    "for i in range(n):\n",
    "    for j in range(n):\n",
    "        print(count, end='\\t')\n",
    "        count += 1\n",
    "    print()\n"
   ]
  },
  {
   "cell_type": "code",
   "execution_count": 80,
   "metadata": {},
   "outputs": [
    {
     "name": "stdout",
     "output_type": "stream",
     "text": [
      "0 0 0 0 \n",
      "0 1 2 3 \n",
      "0 2 4 6 \n",
      "0 3 6 9 \n",
      "\n",
      "Diagonal elements:\n",
      "0\n",
      "1\n",
      "4\n",
      "9\n"
     ]
    }
   ],
   "source": [
    "# 60. Afficher les éléments en diagonale d'une matrice carrée.\n",
    "\n",
    "n = 4\n",
    "\n",
    "for i in range(n):\n",
    "    for j in range(n):\n",
    "        print(i * j, end=' ')\n",
    "    print()\n",
    "\n",
    "print(\"\\nDiagonal elements:\")\n",
    "\n",
    "for i in range(n):\n",
    "    for j in range(n):\n",
    "        if i == j:\n",
    "            print(i * j)"
   ]
  },
  {
   "cell_type": "markdown",
   "metadata": {},
   "source": [
    "## *7. Exercices sur les listes et dictionnaires*"
   ]
  },
  {
   "cell_type": "code",
   "execution_count": 81,
   "metadata": {},
   "outputs": [
    {
     "name": "stdout",
     "output_type": "stream",
     "text": [
      "[1.2, True, 97, 'mrt', 9, 8]\n",
      "[1.2, True, 97, 'mrt', 9, 8]\n"
     ]
    }
   ],
   "source": [
    "# 61. Utiliser une boucle pour inverser une liste.\n",
    "\n",
    "elements = [8, 9, 'mrt', 97, True, 1.2]\n",
    "\n",
    "reversed_list = []\n",
    "for e in elements:\n",
    "    reversed_list.insert(0, e)\n",
    "print(reversed_list)\n",
    "\n",
    "reversed_list_1 = []\n",
    "for i in range(len(elements) - 1, -1, -1):\n",
    "    reversed_list_1.append(elements[i])\n",
    "print(reversed_list_1)"
   ]
  },
  {
   "cell_type": "code",
   "execution_count": 82,
   "metadata": {},
   "outputs": [
    {
     "name": "stdout",
     "output_type": "stream",
     "text": [
      "This list is not sorted.\n"
     ]
    }
   ],
   "source": [
    "# 62. Utiliser une boucle pour vérifier si une liste est triée ou non.\n",
    "\n",
    "my_list = [4, 2, 9, 12, 4, 32, 13, 8, 78, 1, 4, 21, 7, 4, 1, 3, 5, 4, 6]\n",
    "# my_list = sorted(my_list)\n",
    "# print(my_list)\n",
    "\n",
    "for i in range(len(my_list) - 1):\n",
    "    if my_list[i] > my_list[i + 1]:\n",
    "        print('This list is not sorted.')\n",
    "        break\n",
    "    "
   ]
  },
  {
   "cell_type": "code",
   "execution_count": 83,
   "metadata": {},
   "outputs": [
    {
     "name": "stdout",
     "output_type": "stream",
     "text": [
      "5\n"
     ]
    }
   ],
   "source": [
    "# 63. Créer une boucle qui compte le nombre de fois qu'un élément apparaît dans une liste.\n",
    "\n",
    "my_list = [4, 2, 9, 12, 4, 32, 13, 8, 78, 1, 4, 21, 7, 4, 1, 3, 5, 4, 6]\n",
    "\n",
    "n = 4\n",
    "count_n = 0\n",
    "\n",
    "for e in my_list:\n",
    "    if e == n:\n",
    "        count_n += 1\n",
    "\n",
    "print(count_n)"
   ]
  },
  {
   "cell_type": "code",
   "execution_count": 84,
   "metadata": {},
   "outputs": [
    {
     "name": "stdout",
     "output_type": "stream",
     "text": [
      "[12, 32, 13, 78, 21]\n",
      "[12, 32, 13, 78, 21]\n"
     ]
    }
   ],
   "source": [
    "# 64. Créer un programme qui enlève tous les éléments d'une liste qui sont inférieurs à 10.\n",
    "\n",
    "my_list = [4, 2, 9, 12, 4, 32, 13, 8, 78, 1, 4, 21, 7, 4, 1, 3, 5, 4, 6]\n",
    "\n",
    "for i in range(len(my_list) - 1, -1, -1):\n",
    "    if my_list[i] < 10:\n",
    "        my_list.pop(i)\n",
    "print(my_list)\n",
    "\n",
    "second_list = [4, 2, 9, 12, 4, 32, 13, 8, 78, 1, 4, 21, 7, 4, 1, 3, 5, 4, 6]\n",
    "second_list = [x for x in my_list if x >= 10]\n",
    "print(second_list)"
   ]
  },
  {
   "cell_type": "code",
   "execution_count": 85,
   "metadata": {},
   "outputs": [
    {
     "name": "stdout",
     "output_type": "stream",
     "text": [
      "nom Alice\n",
      "age 25\n",
      "ville Paris\n",
      "profession Développeuse\n",
      "langages ['Python', 'JavaScript', 'C++']\n",
      "\n",
      "nom Alice\n",
      "age 25\n",
      "ville Paris\n",
      "profession Développeuse\n",
      "langages ['Python', 'JavaScript', 'C++']\n"
     ]
    }
   ],
   "source": [
    "# 65. Parcourir un dictionnaire et afficher ses clés et valeurs.\n",
    "\n",
    "my_dict = {\n",
    "    'nom': 'Alice',\n",
    "    'age': 25,\n",
    "    'ville': 'Paris',\n",
    "    'profession': 'Développeuse',\n",
    "    'langages': ['Python', 'JavaScript', 'C++']\n",
    "}\n",
    "\n",
    "for key in my_dict:\n",
    "    print(key, my_dict[key])\n",
    "\n",
    "print()\n",
    "\n",
    "for key, value in my_dict.items():\n",
    "    print(key, value)"
   ]
  },
  {
   "cell_type": "code",
   "execution_count": 86,
   "metadata": {},
   "outputs": [
    {
     "name": "stdout",
     "output_type": "stream",
     "text": [
      "9\n"
     ]
    }
   ],
   "source": [
    "# 66. Utiliser une boucle pour compter le nombre de voyelles dans une chaîne de caractères.\n",
    "\n",
    "sentence = 'Hello my name is Benjamin.'.lower()\n",
    "\n",
    "vowel_list = \"aeiouy\"\n",
    "count_vowel = 0\n",
    "\n",
    "for letter in sentence:\n",
    "    if letter in vowel_list:\n",
    "        count_vowel += 1\n",
    "\n",
    "print(count_vowel)"
   ]
  },
  {
   "cell_type": "code",
   "execution_count": 87,
   "metadata": {},
   "outputs": [
    {
     "name": "stdout",
     "output_type": "stream",
     "text": [
      "[4, 2, 9, 12, 4, 32, 13, 8, 78, 8, 9, 'mrt', 97, True, 1.2]\n",
      "[8, 9, 'mrt', 97, True, 1.2, 4, 2, 9, 12, 4, 32, 13, 8, 78]\n"
     ]
    }
   ],
   "source": [
    "# 67. Écrire une boucle qui fusionne deux listes en une seule.\n",
    "\n",
    "elements = [8, 9, 'mrt', 97, True, 1.2]\n",
    "my_list = [4, 2, 9, 12, 4, 32, 13, 8, 78]\n",
    "\n",
    "for e in elements:\n",
    "    my_list.append(e)\n",
    "\n",
    "print(my_list)\n",
    "\n",
    "\n",
    "elements = [8, 9, 'mrt', 97, True, 1.2]\n",
    "my_list = [4, 2, 9, 12, 4, 32, 13, 8, 78]\n",
    "print(elements + my_list)"
   ]
  },
  {
   "cell_type": "code",
   "execution_count": 88,
   "metadata": {},
   "outputs": [
    {
     "name": "stdout",
     "output_type": "stream",
     "text": [
      "78\n"
     ]
    }
   ],
   "source": [
    "# 68. Utiliser une boucle pour trouver l'élément le plus grand dans une liste.\n",
    "\n",
    "my_list = [4, 2, 9, 12, 4, 32, 13, 8, 78, 1, 4, 21, 7, 4, 1, 3, 5, 4, 6]\n",
    "max_n = -9999\n",
    "\n",
    "for e in my_list:\n",
    "    if e > max_n:\n",
    "        max_n = e\n",
    "\n",
    "print(max_n)"
   ]
  },
  {
   "cell_type": "code",
   "execution_count": 89,
   "metadata": {},
   "outputs": [
    {
     "name": "stdout",
     "output_type": "stream",
     "text": [
      "[8, 9, 'mrt', 97, True, 1.2, 4, 2, 9, 12, 4, 32, 13, 8, 78]\n",
      "[8, 9, 'mrt', 97, True, 1.2, 4, 2, 9, 12, 4, 32, 13, 8, 78]\n"
     ]
    }
   ],
   "source": [
    "# 69. Créer une boucle qui copie tous les éléments d'une liste dans une autre liste.\n",
    "first_list = [8, 9, 'mrt', 97, True, 1.2, 4, 2, 9, 12, 4, 32, 13, 8, 78]\n",
    "second_list = []\n",
    "\n",
    "for e in first_list:\n",
    "    second_list.append(e)\n",
    "\n",
    "print(second_list)\n",
    "\n",
    "third_list = second_list.copy()\n",
    "print(third_list)"
   ]
  },
  {
   "cell_type": "code",
   "execution_count": 90,
   "metadata": {},
   "outputs": [
    {
     "name": "stdout",
     "output_type": "stream",
     "text": [
      "Liste triée: [1, 2, 3, 4, 5, 6, 7, 8, 9, 12, 13, 14, 21, 32, 78]\n"
     ]
    }
   ],
   "source": [
    "# 70. Écrire une boucle qui trie une liste sans utiliser la méthode `.sort()`.\n",
    "\n",
    "messy_list = [4, 2, 9, 12, 32, 13, 8, 78, 14, 21, 7, 1, 3, 5, 6]\n",
    "n = len(messy_list)\n",
    "\n",
    "for i in range(n):\n",
    "    for j in range(n-i-1):\n",
    "        if messy_list[j] > messy_list[j+1]:\n",
    "            messy_list[j], messy_list[j+1] = messy_list[j+1], messy_list[j]\n",
    "\n",
    "print(\"Liste triée:\", messy_list)"
   ]
  },
  {
   "cell_type": "markdown",
   "metadata": {},
   "source": [
    "## *8. Problèmes mathématiques et boucles*"
   ]
  },
  {
   "cell_type": "code",
   "execution_count": 91,
   "metadata": {},
   "outputs": [
    {
     "name": "stdout",
     "output_type": "stream",
     "text": [
      "[1, 2, 3, 5, 7, 9, 11, 13, 15, 17, 19, 21, 23, 25, 27, 29, 31, 33, 35, 37, 39, 41, 43, 45, 47, 49, 51, 53, 55, 57, 59, 61, 63, 65, 67, 69, 71, 73, 75, 77, 79, 81, 83, 85, 87, 89, 91, 93, 95, 97, 99]\n"
     ]
    }
   ],
   "source": [
    "# 71. Créer une boucle qui affiche tous les nombres premiers entre 1 et 100.\n",
    "\n",
    "nums = []\n",
    "for i in range(1, 101):\n",
    "    other_nums = [h for h in range(1, 101) if h != 1 and h != i]\n",
    "    for num in other_nums:\n",
    "        if i % num == 0:\n",
    "            break\n",
    "        elif i not in nums:\n",
    "            nums.append(i)\n",
    "\n",
    "print(nums)"
   ]
  },
  {
   "cell_type": "code",
   "execution_count": 92,
   "metadata": {},
   "outputs": [
    {
     "name": "stdout",
     "output_type": "stream",
     "text": [
      "1 x 2 = 2\n",
      "2 x 3 = 6\n",
      "6 x 5 = 30\n",
      "30 x 7 = 210\n",
      "210 x 9 = 1890\n",
      "1890 x 11 = 20790\n",
      "20790 x 13 = 270270\n",
      "270270 x 15 = 4054050\n",
      "4054050 x 17 = 68918850\n",
      "68918850 x 19 = 1309458150\n",
      "1309458150 x 21 = 27498621150\n",
      "27498621150 x 23 = 632468286450\n",
      "632468286450 x 25 = 15811707161250\n",
      "15811707161250 x 27 = 426916093353750\n",
      "426916093353750 x 29 = 12380566707258750\n",
      "12380566707258750 x 31 = 383797567925021250\n",
      "383797567925021250 x 33 = 12665319741525701250\n",
      "12665319741525701250 x 35 = 443286190953399543750\n"
     ]
    }
   ],
   "source": [
    "# 72. Écrire une boucle qui calcule le produit de tous les éléments d'une liste.\n",
    "\n",
    "my_list = [1, 2, 3, 5, 7, 9, 11, 13, 15, 17, 19, 21, 23, 25, 27, 29, 31, 33, 35]\n",
    "sum_list = my_list[0]\n",
    "\n",
    "for num in my_list[1:]:\n",
    "    print(f\"{sum_list} x {num} = {sum_list * num}\")\n",
    "    sum_list = sum_list * num"
   ]
  },
  {
   "cell_type": "code",
   "execution_count": 93,
   "metadata": {},
   "outputs": [
    {
     "name": "stdout",
     "output_type": "stream",
     "text": [
      "17.157894736842106\n",
      "17.157894736842106\n"
     ]
    }
   ],
   "source": [
    "# 73. Utiliser une boucle pour calculer la moyenne d'une liste de nombres.\n",
    "\n",
    "my_list = [1, 2, 3, 5, 7, 9, 11, 13, 15, 17, 19, 21, 23, 25, 27, 29, 31, 33, 35]\n",
    "sum_list = 0\n",
    "\n",
    "for num in my_list:\n",
    "    sum_list = sum_list + num\n",
    "\n",
    "avg = sum_list / len(my_list)\n",
    "print(avg)\n",
    "\n",
    "\n",
    "print(sum(my_list) / len(my_list))"
   ]
  },
  {
   "cell_type": "code",
   "execution_count": 94,
   "metadata": {},
   "outputs": [
    {
     "name": "stdout",
     "output_type": "stream",
     "text": [
      "This num is a numeric palindrome\n"
     ]
    }
   ],
   "source": [
    "# 74. Écrire une boucle qui vérifie si un nombre est un palindrome numérique.\n",
    "\n",
    "num = 123321\n",
    "\n",
    "if str(num) == str(num)[::-1]:\n",
    "    print('This num is a numeric palindrome')"
   ]
  },
  {
   "cell_type": "code",
   "execution_count": 95,
   "metadata": {},
   "outputs": [
    {
     "name": "stdout",
     "output_type": "stream",
     "text": [
      "0 1 1 2 3 5 8 13 21 34 [0, 1, 1, 2, 3, 5, 8, 13, 21, 34]\n"
     ]
    }
   ],
   "source": [
    "# 75. Créer une boucle qui calcule les 10 premiers termes de la suite de Fibonacci.\n",
    "\n",
    "# avec initialisation des premiers nombres\n",
    "a, b = 0, 1\n",
    "\n",
    "for _ in range(10):\n",
    "    print(a, end=\" \")\n",
    "    a, b = b, a + b\n",
    "\n",
    "# sans initialisation des premiers nombres\n",
    "fibo_nums = []\n",
    "for i in range(10):\n",
    "    if len(fibo_nums) < 2:\n",
    "        fibo_nums.append(i)\n",
    "    else:\n",
    "        fibo_nums.append(sum(fibo_nums[-2:]))\n",
    "print(fibo_nums)"
   ]
  },
  {
   "cell_type": "code",
   "execution_count": 96,
   "metadata": {},
   "outputs": [
    {
     "name": "stdout",
     "output_type": "stream",
     "text": [
      "This num is a perfect number.\n"
     ]
    }
   ],
   "source": [
    "# 76. Utiliser une boucle pour vérifier si un nombre est parfait (la somme de ses diviseurs est égale à lui-même).\n",
    "\n",
    "num = 28\n",
    "divisibles = []\n",
    "\n",
    "for i in range(1, num):\n",
    "    if num % i == 0:\n",
    "        divisibles.append(i)\n",
    "\n",
    "if sum(divisibles) == num:\n",
    "    print('This num is a perfect number.')\n"
   ]
  },
  {
   "cell_type": "code",
   "execution_count": 97,
   "metadata": {},
   "outputs": [
    {
     "name": "stdout",
     "output_type": "stream",
     "text": [
      "1 4 9 16 25 36 49 64 81 100 121 144 169 196 225 256 289 324 361 400 "
     ]
    }
   ],
   "source": [
    "# 77. Créer une boucle qui génère et affiche les carrés des nombres de 1 à 20.\n",
    "\n",
    "for i in range(1, 21):\n",
    "    print(i*i, end=' ')"
   ]
  },
  {
   "cell_type": "code",
   "execution_count": 98,
   "metadata": {},
   "outputs": [
    {
     "name": "stdout",
     "output_type": "stream",
     "text": [
      "7 14 21 28 35 42 49 56 63 70 77 84 91 98 "
     ]
    }
   ],
   "source": [
    "# 78. Écrire une boucle qui affiche tous les multiples de 7 inférieurs à 100.\n",
    "\n",
    "for i in range(1, 101):\n",
    "    if i % 7 == 0:\n",
    "        print(i, end=' ')"
   ]
  },
  {
   "cell_type": "code",
   "execution_count": 99,
   "metadata": {},
   "outputs": [
    {
     "name": "stdout",
     "output_type": "stream",
     "text": [
      "18\n"
     ]
    }
   ],
   "source": [
    "# 79. Créer une boucle qui calcule la somme des chiffres d'un nombre donné.\n",
    "\n",
    "num = 6732\n",
    "sum_num = 0\n",
    "\n",
    "for i in str(num):\n",
    "    sum_num += int(i)\n",
    "\n",
    "print(sum_num)"
   ]
  },
  {
   "cell_type": "code",
   "execution_count": 100,
   "metadata": {},
   "outputs": [],
   "source": [
    "# 80. Utiliser une boucle pour déterminer si deux listes sont identiques.\n",
    "\n",
    "my_list_0 = [1, 2, 3, 5, 7, 9, 11, 13, 15, 17, 19, 21, 23, 25, 27, 29, 31, 33, 35]\n",
    "my_list_1 = [1, 2, 3, 5, 7, 17, 19, 21, 23, 25, 27, 29, 31, 33, 35, 9, 11, 13, 15]\n",
    "\n",
    "my_list_0 = sorted(my_list_0)\n",
    "my_list_1 = sorted(my_list_1)\n",
    "\n",
    "if len(my_list_0) == len(my_list_1):\n",
    "    for i in range(len(my_list_1)):\n",
    "        if my_list_0[i] != my_list_1[i]:\n",
    "            print('These lists are different')\n",
    "            break\n",
    "else:\n",
    "    print('These lists are different')"
   ]
  },
  {
   "cell_type": "markdown",
   "metadata": {},
   "source": [
    "## *9. Exercices avancés*"
   ]
  },
  {
   "cell_type": "code",
   "execution_count": 101,
   "metadata": {},
   "outputs": [
    {
     "name": "stdout",
     "output_type": "stream",
     "text": [
      "These are anagrams.\n"
     ]
    }
   ],
   "source": [
    "# 81. Créer un programme qui vérifie si deux chaînes sont des anagrammes.\n",
    "\n",
    "word_0 = 'listen'\n",
    "word_1 = 'silent'\n",
    "\n",
    "if len(word_0) == len(word_1):\n",
    "    if sorted(word_0) == sorted(word_1):\n",
    "        print('These are anagrams.')"
   ]
  },
  {
   "cell_type": "code",
   "execution_count": 102,
   "metadata": {},
   "outputs": [
    {
     "name": "stdout",
     "output_type": "stream",
     "text": [
      "9\n"
     ]
    }
   ],
   "source": [
    "# 82. Écrire une boucle qui parcourt un texte et compte le nombre de mots.\n",
    "\n",
    "sentence = 'Hello my name is Benjamin. I live in Lille.'\n",
    "words = sentence.replace('.', '').split(' ')\n",
    "print(len(words))"
   ]
  },
  {
   "cell_type": "code",
   "execution_count": 103,
   "metadata": {},
   "outputs": [
    {
     "name": "stdout",
     "output_type": "stream",
     "text": [
      "189\n",
      "97\n",
      "4764\n"
     ]
    }
   ],
   "source": [
    "# 83. Créer une boucle qui parcourt une liste de listes et affiche la somme de chaque sous-liste.\n",
    "\n",
    "elements = [\n",
    "    [5, 89, 79, 4, 12],\n",
    "    [8, 9, 12, 52, 7, 9],\n",
    "    [71, 4689, 1, 3],\n",
    "]\n",
    "\n",
    "for e in elements:\n",
    "    print(sum(e))"
   ]
  },
  {
   "cell_type": "code",
   "execution_count": 104,
   "metadata": {},
   "outputs": [
    {
     "name": "stdout",
     "output_type": "stream",
     "text": [
      "[(9, 1, 567, 10, 11), (8, 9, 12, 52, 7, 9), (5, 89, 79, 4, 12), (71, 4689, 1, 3)]\n"
     ]
    }
   ],
   "source": [
    "# 84. Utiliser une boucle pour trier une liste de tuples en fonction de la deuxième valeur.\n",
    "\n",
    "elements = [\n",
    "    (71, 4689, 1, 3),\n",
    "    (5, 89, 79, 4, 12),\n",
    "    (8, 9, 12, 52, 7, 9),\n",
    "    (9, 1, 567, 10, 11)\n",
    "]\n",
    "\n",
    "print(sorted(elements, key=lambda x : x[1]))"
   ]
  },
  {
   "cell_type": "code",
   "execution_count": 105,
   "metadata": {},
   "outputs": [
    {
     "name": "stdout",
     "output_type": "stream",
     "text": [
      "3\n",
      "6\n"
     ]
    }
   ],
   "source": [
    "# 85. Créer une boucle qui simule un lancer de dés et s'arrête lorsqu'un 6 est obtenu.\n",
    "\n",
    "import random\n",
    "\n",
    "while True:\n",
    "    roll = random.randint(1, 6)\n",
    "    print(roll)\n",
    "    if roll == 6:\n",
    "        break"
   ]
  },
  {
   "cell_type": "code",
   "execution_count": 106,
   "metadata": {},
   "outputs": [
    {
     "name": "stdout",
     "output_type": "stream",
     "text": [
      "5\n",
      "Try again...\n",
      "Good job !\n"
     ]
    }
   ],
   "source": [
    "# 86. Créer une boucle qui simule un lancer de dés et continue de demander jusqu'à ce que l'utilisateur trouve.\n",
    "\n",
    "roll = random.randint(1, 6)\n",
    "print(roll)\n",
    "\n",
    "while True:\n",
    "    user_num = int(input('Enter a number between 1 and 6:'))\n",
    "    if roll == user_num:\n",
    "        print('Good job !')\n",
    "        break\n",
    "    else:\n",
    "        print('Try again...')"
   ]
  },
  {
   "cell_type": "code",
   "execution_count": 107,
   "metadata": {},
   "outputs": [
    {
     "name": "stdout",
     "output_type": "stream",
     "text": [
      "60\n",
      "More !\n",
      "\n",
      "Good job !\n"
     ]
    }
   ],
   "source": [
    "# 87. Créer un programme qui génère un nombre aléatoire entre 1 et 100 et indique plus ou moins jusqu’à ce que l’utilisateur trouve.\n",
    "\n",
    "roll = random.randint(1, 101)\n",
    "print(roll)\n",
    "\n",
    "while True:\n",
    "    user_num = int(input('Enter a number between 1 and 100:'))\n",
    "    if roll == user_num:\n",
    "        print('Good job !')\n",
    "        break\n",
    "    elif roll > user_num:\n",
    "        print('More !')\n",
    "    else:\n",
    "        print('Less !')\n",
    "    print()"
   ]
  },
  {
   "cell_type": "code",
   "execution_count": 108,
   "metadata": {},
   "outputs": [
    {
     "name": "stdout",
     "output_type": "stream",
     "text": [
      "[[4, 4], [4, 5], [4, 12], [4, 79], [4, 89], [5, 5], [5, 12], [5, 79], [5, 89], [12, 12], [12, 79], [12, 89], [79, 79], [79, 89], [89, 89]]\n"
     ]
    }
   ],
   "source": [
    "# 88. Utiliser des boucles pour créer une liste de toutes les paires possibles d'une liste donnée.\n",
    "\n",
    "my_list = [5, 89, 79, 4, 12]\n",
    "n = len(my_list)\n",
    "pairs = []\n",
    "\n",
    "for i in range(n):\n",
    "    for j in range(n):\n",
    "        pair = sorted((my_list[i], my_list[j]))\n",
    "        if pair not in pairs:\n",
    "            pairs.append(pair)\n",
    "\n",
    "print(sorted(pairs))"
   ]
  },
  {
   "cell_type": "code",
   "execution_count": 109,
   "metadata": {},
   "outputs": [
    {
     "name": "stdout",
     "output_type": "stream",
     "text": [
      "2\n",
      "7\n",
      "9\n",
      "14\n",
      "19\n"
     ]
    }
   ],
   "source": [
    "# 89. Créer une boucle qui recherche tous les indices d'une valeur spécifique dans une liste.\n",
    "\n",
    "my_list = [5, 89, 12, 5, 89, 79, 4, 12, 5, 12, 5, 89, 79, 4, 12, 5, 89, 79, 4, 12]\n",
    "n = 12\n",
    "\n",
    "for i in range(len(my_list)):\n",
    "    if my_list[i] == n:\n",
    "        print(i)"
   ]
  },
  {
   "cell_type": "code",
   "execution_count": 110,
   "metadata": {},
   "outputs": [
    {
     "name": "stdout",
     "output_type": "stream",
     "text": [
      "23 3 7 2\n",
      "[[5, 89, 12, 592, 9, 79, 4], [812, 15, 142, 1, 76, 5, 89], [79, 4, 12, 598, 8, 79, 4], [128, 21]]\n"
     ]
    }
   ],
   "source": [
    "# 90. Écrire une boucle qui divise une liste en plusieurs sous-listes de taille égale.\n",
    "\n",
    "my_list = [5, 89, 12, 592, 9, 79, 4, 812, 15, 142, 1, 76, 5, 89, 79, 4, 12, 598, 8, 79, 4, 128, 21]\n",
    "n = len(my_list)\n",
    "\n",
    "# # On défini nous-même la taille des sous-listes\n",
    "# i = 4\n",
    "# s = 5\n",
    "# r = n - i * s\n",
    "\n",
    "\n",
    "# Ou on boucle pour trouver le plus grand diviseur de n (la première valeur de 'i' pour laquelle n % i == 0)\n",
    "for i in range(101, 2, -1):\n",
    "    # On calcule combien d'éléments dans chaque sous-liste\n",
    "    s = n // i\n",
    "    # On calcule le reste de la division de n par i\n",
    "    r = n % i\n",
    "    # Si 'i' n'est pas égal à 'n' et qu'il divise 'n' sans reste, on arrête la boucle\n",
    "    if i != n and r == 0:\n",
    "        break\n",
    "\n",
    "# n (longueur de la liste), i (le nombre de sous-listes), s (taille des sous-listes), et r (reste)\n",
    "print(n, i, s, r)\n",
    "\n",
    "\n",
    "# Initialisation de la liste finale\n",
    "final_list = []\n",
    "for j in range(i):  \n",
    "    # Initialisation d'une sous-liste\n",
    "    prim = []\n",
    "    for k in range(s):\n",
    "        # Calcul de l'indice de l'élément pris dans la liste principale à ajouter \n",
    "        l = j * s + k  \n",
    "        # On ajoute l'élément correspondant à la sous-liste\n",
    "        prim.append(my_list[l])  \n",
    "    # On ajoute la sous-liste à la liste finale\n",
    "    final_list.append(prim)  \n",
    "\n",
    "# Si le reste 'r' est non nul, on ajoute les derniers éléments restants\n",
    "if r != 0:\n",
    "    final_list.append(my_list[-r:])\n",
    "\n",
    "print(final_list)"
   ]
  },
  {
   "cell_type": "markdown",
   "metadata": {},
   "source": [
    "# **Exercices Boucles, Conditions et Fonctions**"
   ]
  },
  {
   "cell_type": "markdown",
   "metadata": {},
   "source": [
    "## *10. Projets plus complexes*"
   ]
  },
  {
   "cell_type": "code",
   "execution_count": 111,
   "metadata": {},
   "outputs": [
    {
     "name": "stdout",
     "output_type": "stream",
     "text": [
      "15\n"
     ]
    }
   ],
   "source": [
    "# 91. Calculer la somme des nombres d’une liste donnée\n",
    "\n",
    "def sum_list(numbers: list[int]) -> int:\n",
    "    \"\"\"\n",
    "    Calcule la somme des éléments d'une liste donnée.\n",
    "    \n",
    "    Args:\n",
    "    numbers (list[int]): La liste des nombres entiers.\n",
    "    \n",
    "    Returns:\n",
    "    int: La somme des éléments de la liste.\n",
    "    \"\"\"\n",
    "    total = 0\n",
    "    for number in numbers:\n",
    "        total += number\n",
    "    return total\n",
    "\n",
    "# Exemple\n",
    "numbers = [1, 2, 3, 4, 5]\n",
    "print(sum_list(numbers))"
   ]
  },
  {
   "cell_type": "code",
   "execution_count": 112,
   "metadata": {},
   "outputs": [
    {
     "name": "stdout",
     "output_type": "stream",
     "text": [
      "(5, 1)\n"
     ]
    }
   ],
   "source": [
    "# 92. Trouver le plus grand et le plus petit nombre dans une liste\n",
    "\n",
    "def find_max_min(numbers: list[int]) -> tuple[int, int]:\n",
    "    \"\"\"\n",
    "    Trouve le plus grand et le plus petit élément d'une liste.\n",
    "    \n",
    "    Args:\n",
    "    numbers (list[int]): La liste des nombres entiers.\n",
    "    \n",
    "    Returns:\n",
    "    tuple[int, int]: Le plus grand et le plus petit élément sous forme de tuple.\n",
    "    \"\"\"\n",
    "    max_value = numbers[0]\n",
    "    min_value = numbers[0]\n",
    "    for number in numbers:\n",
    "        if number > max_value:\n",
    "            max_value = number\n",
    "        if number < min_value:\n",
    "            min_value = number\n",
    "    return max_value, min_value\n",
    "\n",
    "# Exemple\n",
    "numbers = [1, 2, 3, 4, 5]\n",
    "print(find_max_min(numbers))"
   ]
  },
  {
   "cell_type": "code",
   "execution_count": 113,
   "metadata": {},
   "outputs": [
    {
     "name": "stdout",
     "output_type": "stream",
     "text": [
      "True\n"
     ]
    }
   ],
   "source": [
    "# 93. Vérifier si une chaîne est un anagramme d’une autre\n",
    "\n",
    "def is_anagram(string1: str, string2: str) -> bool:\n",
    "    \"\"\"\n",
    "    Vérifie si deux chaînes de caractères sont des anagrammes.\n",
    "    \n",
    "    Args:\n",
    "    string1 (str): Première chaîne de caractères.\n",
    "    string2 (str): Deuxième chaîne de caractères.\n",
    "    \n",
    "    Returns:\n",
    "    bool: True si ce sont des anagrammes, False sinon.\n",
    "    \"\"\"\n",
    "    return sorted(string1) == sorted(string2)\n",
    "\n",
    "# Exemple\n",
    "string1 = 'listen'\n",
    "string2 = 'silent'\n",
    "print(is_anagram(string1, string2))"
   ]
  },
  {
   "cell_type": "code",
   "execution_count": 114,
   "metadata": {},
   "outputs": [
    {
     "name": "stdout",
     "output_type": "stream",
     "text": [
      "36\n"
     ]
    }
   ],
   "source": [
    "# 94. Calculer la somme des diviseurs d’un nombre donné\n",
    "\n",
    "def sum_divisors(number: int) -> int:\n",
    "    \"\"\"\n",
    "    Calcule la somme des diviseurs d'un nombre (excepté lui-même).\n",
    "    \n",
    "    Args:\n",
    "    number (int): Le nombre entier dont on veut calculer les diviseurs.\n",
    "    \n",
    "    Returns:\n",
    "    int: La somme des diviseurs.\n",
    "    \"\"\"\n",
    "    total = 0\n",
    "    for i in range(1, number):\n",
    "        if number % i == 0:\n",
    "            total += i\n",
    "    return total\n",
    "\n",
    "# Exemple\n",
    "number = 24\n",
    "print(sum_divisors(number))"
   ]
  },
  {
   "cell_type": "code",
   "execution_count": 115,
   "metadata": {},
   "outputs": [
    {
     "name": "stdout",
     "output_type": "stream",
     "text": [
      "True\n",
      "False\n"
     ]
    }
   ],
   "source": [
    "# 95. Vérifier si une liste contient des éléments en double\n",
    "\n",
    "def has_duplicates(my_list: list[int]) -> bool:\n",
    "    \"\"\"\n",
    "    Vérifie si une liste contient des éléments en double.\n",
    "    \n",
    "    Args:\n",
    "    my_list (list[int]): La liste des éléments à vérifier.\n",
    "    \n",
    "    Returns:\n",
    "    bool: True si la liste contient des doublons, False sinon.\n",
    "    \"\"\"\n",
    "    seen_elements = set()\n",
    "    for element in my_list:\n",
    "        if element in seen_elements:\n",
    "            return True\n",
    "        seen_elements.add(element)\n",
    "    return False\n",
    "\n",
    "# Exemple\n",
    "my_list = [1, 2, 3, 4, 5, 1]\n",
    "my_list_1 = [1, 2, 3, 4, 5]\n",
    "print(has_duplicates(my_list))\n",
    "print(has_duplicates(my_list_1))"
   ]
  },
  {
   "cell_type": "code",
   "execution_count": 116,
   "metadata": {},
   "outputs": [
    {
     "name": "stdout",
     "output_type": "stream",
     "text": [
      "35\n"
     ]
    }
   ],
   "source": [
    "# 96. Calculer le produit scalaire de deux listes de même taille\n",
    "\n",
    "def dot_product(list_1: list[int], list_2: list[int]) -> int:\n",
    "    \"\"\"\n",
    "    Calcule le produit scalaire de deux listes de même taille.\n",
    "    \n",
    "    Args:\n",
    "    list_1 (list[int]): La première liste de nombres entiers.\n",
    "    list_2 (list[int]): La deuxième liste de nombres entiers.\n",
    "    \n",
    "    Returns:\n",
    "    int: Le produit scalaire des deux listes.\n",
    "    \n",
    "    Raises:\n",
    "    ValueError: Si les deux listes n'ont pas la même taille.\n",
    "    \"\"\"\n",
    "    if len(list_1) != len(list_2):\n",
    "        raise ValueError(\"Les deux listes doivent avoir la même taille.\")\n",
    "    \n",
    "    result = 0\n",
    "    for i in range(len(list_1)):\n",
    "        result += list_1[i] * list_2[i]\n",
    "    return result\n",
    "\n",
    "# Exemple\n",
    "list_1 = [1, 2, 3, 4, 5]\n",
    "list_2 = [5, 4, 3, 2, 1]\n",
    "print(dot_product(list_1, list_2))"
   ]
  },
  {
   "cell_type": "code",
   "execution_count": 117,
   "metadata": {},
   "outputs": [
    {
     "name": "stdout",
     "output_type": "stream",
     "text": [
      "True\n",
      "False\n"
     ]
    }
   ],
   "source": [
    "# 97. Vérifier si une chaîne contient des caractères répétés\n",
    "\n",
    "def has_repeated_characters(string: str) -> bool:\n",
    "    \"\"\"\n",
    "    Vérifie si une chaîne contient des caractères répétés.\n",
    "    \n",
    "    Args:\n",
    "    string (str): La chaîne de caractères à vérifier.\n",
    "    \n",
    "    Returns:\n",
    "    bool: True si la chaîne contient des caractères répétés, False sinon.\n",
    "    \"\"\"\n",
    "    seen_characters = set()\n",
    "    for character in string:\n",
    "        if character in seen_characters:\n",
    "            return True\n",
    "        seen_characters.add(character)\n",
    "    return False\n",
    "\n",
    "# Exemple\n",
    "string = 'hello'\n",
    "string_1 = 'world'\n",
    "print(has_repeated_characters(string))\n",
    "print(has_repeated_characters(string_1))"
   ]
  },
  {
   "cell_type": "code",
   "execution_count": 118,
   "metadata": {},
   "outputs": [
    {
     "name": "stdout",
     "output_type": "stream",
     "text": [
      "Benjamin. is name my Hello\n"
     ]
    }
   ],
   "source": [
    "# 98. Inverser les mots dans une phrase\n",
    "\n",
    "def reverse_sentence(sentence: str) -> str:\n",
    "    \"\"\"\n",
    "    Inverse les mots d'une phrase donnée sans inverser les lettres des mots.\n",
    "    \n",
    "    Args:\n",
    "    sentence (str): La phrase à inverser.\n",
    "    \n",
    "    Returns:\n",
    "    str: La phrase avec les mots inversés.\n",
    "    \"\"\"\n",
    "    words = sentence.split(\" \")\n",
    "    reversed_sentence = \"\"\n",
    "    for i in range(len(words) - 1, -1, -1):\n",
    "        reversed_sentence += words[i] + \" \"\n",
    "    return reversed_sentence.strip()\n",
    "\n",
    "# Exemple\n",
    "sentence = \"Hello my name is Benjamin.\"\n",
    "print(reverse_sentence(sentence))"
   ]
  },
  {
   "cell_type": "code",
   "execution_count": 119,
   "metadata": {},
   "outputs": [
    {
     "name": "stdout",
     "output_type": "stream",
     "text": [
      "120\n"
     ]
    }
   ],
   "source": [
    "# 99. Calculer le factoriel d’un nombre de manière itérative\n",
    "\n",
    "def iterative_factorial(n: int) -> int:\n",
    "    \"\"\"\n",
    "    Calcule la factorielle d'un nombre de manière itérative.\n",
    "    \n",
    "    Args:\n",
    "    n (int): Le nombre entier dont on calcule la factorielle.\n",
    "    \n",
    "    Returns:\n",
    "    int: La factorielle du nombre.\n",
    "    \"\"\"\n",
    "    result = 1\n",
    "    for i in range(1, n + 1):\n",
    "        result *= i\n",
    "    return result\n",
    "\n",
    "# Exemple\n",
    "n = 5\n",
    "print(iterative_factorial(n))"
   ]
  },
  {
   "cell_type": "code",
   "execution_count": 120,
   "metadata": {},
   "outputs": [
    {
     "name": "stdout",
     "output_type": "stream",
     "text": [
      "Hamming Distance: 3\n"
     ]
    }
   ],
   "source": [
    "# 100. Calculer la distance de Hamming entre deux chaînes de caractères\n",
    "\n",
    "def hamming_distance(str1: str, str2: str) -> int:\n",
    "    \"\"\"\n",
    "    Calcule la distance de Hamming entre deux chaînes de caractères de même longueur.\n",
    "    \n",
    "    La distance de Hamming est le nombre de positions où les caractères correspondants\n",
    "    dans les deux chaînes sont différents.\n",
    "    \n",
    "    Args:\n",
    "    str1 (str): La première chaîne de caractères.\n",
    "    str2 (str): La deuxième chaîne de caractères.\n",
    "    \n",
    "    Returns:\n",
    "    int: La distance de Hamming entre les deux chaînes.\n",
    "    \n",
    "    Raises:\n",
    "    ValueError: Si les deux chaînes n'ont pas la même longueur.\n",
    "    \"\"\"\n",
    "    if len(str1) != len(str2):\n",
    "        raise ValueError(\"Les chaînes doivent avoir la même longueur.\")\n",
    "    \n",
    "    distance = 0\n",
    "    # Comparaison caractère par caractère en utilisant une boucle sur l'indice\n",
    "    for i in range(len(str1)):\n",
    "        if str1[i] != str2[i]:\n",
    "            distance += 1\n",
    "    \n",
    "    return distance\n",
    "\n",
    "# Exemple d'utilisation\n",
    "str1 = \"Carnages\"\n",
    "str2 = \"Carnaval\"\n",
    "\n",
    "print(f\"Hamming Distance: {hamming_distance(str1, str2)}\")"
   ]
  }
 ],
 "metadata": {
  "kernelspec": {
   "display_name": ".venv",
   "language": "python",
   "name": "python3"
  },
  "language_info": {
   "codemirror_mode": {
    "name": "ipython",
    "version": 3
   },
   "file_extension": ".py",
   "mimetype": "text/x-python",
   "name": "python",
   "nbconvert_exporter": "python",
   "pygments_lexer": "ipython3",
   "version": "3.12.3"
  }
 },
 "nbformat": 4,
 "nbformat_minor": 2
}
